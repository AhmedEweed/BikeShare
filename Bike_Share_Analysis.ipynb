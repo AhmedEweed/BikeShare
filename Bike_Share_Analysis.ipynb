{
 "cells": [
  {
   "cell_type": "markdown",
   "metadata": {},
   "source": [
    "# US Bike Share Analysis\n",
    "\n",
    "## Table of Contents\n",
    "- [Introduction](#intro)\n",
    "- [Posing Questions](#pose_questions)\n",
    "- [Data Collection and Wrangling](#wrangling)\n",
    "  - [Condensing the Trip Data](#condensing)\n",
    "- [Exploratory Data Analysis](#eda)\n",
    "  - [Statistics](#statistics)\n",
    "  - [Visualizations](#visualizations)\n",
    "- [Performing Your Own Analysis](#eda_continued)\n",
    "- [Conclusions](#conclusions)\n",
    "\n",
    "<a id='intro'></a>\n",
    "## Introduction\n",
    "\n",
    "\n",
    "Over the past decade, bicycle-sharing systems have been growing in number and popularity in cities across the world. Bicycle-sharing systems allow users to rent bicycles for short trips, typically 30 minutes or less. Thanks to the rise in information technologies, it is easy for a user of the system to access a dock within the system to unlock or return bicycles. These technologies also provide a wealth of data that can be used to explore how these bike-sharing systems are used.\n",
    "\n",
    "In this project, I will perform an exploratory analysis on data provided by [Motivate](https://www.motivateco.com/), a bike-share system provider for many major cities in the United States. I will compare the system usage between three large cities: New York City, Chicago, and Washington, DC. I will also see if there are any differences within each system for those users that are registered, regular users and those users that are short-term, casual users."
   ]
  },
  {
   "cell_type": "markdown",
   "metadata": {},
   "source": [
    "<a id='pose_questions'></a>\n",
    "## Posing Questions\n",
    "\n",
    "Before looking at the bike sharing data, I will start by asking questions about the bike share data.  \n",
    "for example, What kinds of information would be important in order to make smarter business decisions?  \n",
    "as a user of the bike-share service, what factors might influence how I would want to use the service?\n",
    "\n",
    "Here are some questions to guide our analysis:\n",
    "\n",
    "            1- Which state has the largest number of users ?\n",
    "\n",
    "            2- What is the average trip duration in each state?\n",
    "            \n",
    "            3- Which day of the week is the heaviest in user traffic ? which user type is heavier?"
   ]
  },
  {
   "cell_type": "markdown",
   "metadata": {},
   "source": [
    "<a id='wrangling'></a>\n",
    "## Data Collection and Wrangling\n",
    "\n",
    "Now it's time to collect and explore our data. In this project, we will focus on the record of individual trips taken in 2016 from our selected cities: New York City, Chicago, and Washington, DC. Each of these cities has a page where we can freely download the trip data.:\n",
    "\n",
    "- New York City (Citi Bike): [Link](https://www.citibikenyc.com/system-data)\n",
    "- Chicago (Divvy): [Link](https://www.divvybikes.com/system-data)\n",
    "- Washington, DC (Capital Bikeshare): [Link](https://www.capitalbikeshare.com/system-data)\n",
    " \n",
    "\n",
    "However, there is still a lot of data for us to investigate, so it's a good idea to start off by looking at one entry from each of the cities we're going to analyze.\n"
   ]
  },
  {
   "cell_type": "code",
   "execution_count": 18,
   "metadata": {},
   "outputs": [],
   "source": [
    "## import all necessary packages and functions.\n",
    "import csv  # read and write csv files\n",
    "from datetime import datetime # operations to parse dates\n",
    "from pprint import pprint # use to print data structures like dictionaries in\n",
    "                          # a nicer way than the base print function.\n",
    "import collections    \n",
    "import matplotlib.pyplot as plt\n",
    "    "
   ]
  },
  {
   "cell_type": "code",
   "execution_count": 2,
   "metadata": {
    "scrolled": false
   },
   "outputs": [
    {
     "name": "stdout",
     "output_type": "stream",
     "text": [
      "\n",
      "City: NYC\n",
      "OrderedDict([('tripduration', '839'),\n",
      "             ('starttime', '1/1/2016 00:09:55'),\n",
      "             ('stoptime', '1/1/2016 00:23:54'),\n",
      "             ('start station id', '532'),\n",
      "             ('start station name', 'S 5 Pl & S 4 St'),\n",
      "             ('start station latitude', '40.710451'),\n",
      "             ('start station longitude', '-73.960876'),\n",
      "             ('end station id', '401'),\n",
      "             ('end station name', 'Allen St & Rivington St'),\n",
      "             ('end station latitude', '40.72019576'),\n",
      "             ('end station longitude', '-73.98997825'),\n",
      "             ('bikeid', '17109'),\n",
      "             ('usertype', 'Customer'),\n",
      "             ('birth year', ''),\n",
      "             ('gender', '0')])\n",
      "\n",
      "City: Chicago\n",
      "OrderedDict([('trip_id', '9080545'),\n",
      "             ('starttime', '3/31/2016 23:30'),\n",
      "             ('stoptime', '3/31/2016 23:46'),\n",
      "             ('bikeid', '2295'),\n",
      "             ('tripduration', '926'),\n",
      "             ('from_station_id', '156'),\n",
      "             ('from_station_name', 'Clark St & Wellington Ave'),\n",
      "             ('to_station_id', '166'),\n",
      "             ('to_station_name', 'Ashland Ave & Wrightwood Ave'),\n",
      "             ('usertype', 'Subscriber'),\n",
      "             ('gender', 'Male'),\n",
      "             ('birthyear', '1990')])\n",
      "\n",
      "City: Washington\n",
      "OrderedDict([('Duration (ms)', '427387'),\n",
      "             ('Start date', '3/31/2016 22:57'),\n",
      "             ('End date', '3/31/2016 23:04'),\n",
      "             ('Start station number', '31602'),\n",
      "             ('Start station', 'Park Rd & Holmead Pl NW'),\n",
      "             ('End station number', '31207'),\n",
      "             ('End station', 'Georgia Ave and Fairmont St NW'),\n",
      "             ('Bike number', 'W20842'),\n",
      "             ('Member Type', 'Registered')])\n"
     ]
    }
   ],
   "source": [
    "def print_first_point(filename):\n",
    "    \"\"\"\n",
    "    This function prints and returns the first data point (second row) from\n",
    "    a csv file that includes a header row.\n",
    "    \"\"\"\n",
    "    # print city name for reference\n",
    "    city = filename.split('-')[0].split('/')[-1]\n",
    "    print('\\nCity: {}'.format(city))\n",
    "    \n",
    "    with open(filename, 'r') as f_in:\n",
    "        ## set up a DictReader object.\n",
    "        trip_reader = csv.DictReader(f_in)\n",
    "        \n",
    "        ## read the first trip from the data file and store it in a variable.\n",
    "        \n",
    "        first_trip = next(trip_reader)\n",
    "        \n",
    "        ##print the first trip.\n",
    "        pprint(first_trip)\n",
    "    # output city name and first trip for later testing\n",
    "    return (city, first_trip)\n",
    "\n",
    "# list of files for each city\n",
    "data_files = ['NYC-CitiBike-2016.csv',\n",
    "              'Chicago-Divvy-2016.csv',\n",
    "              'Washington-CapitalBikeshare-2016.csv',]\n",
    "\n",
    "# print the first trip from each file, store in dictionary\n",
    "example_trips = {}\n",
    "for data_file in data_files:\n",
    "    city, first_trip = print_first_point(data_file)\n",
    "    example_trips[city] = first_trip"
   ]
  },
  {
   "cell_type": "markdown",
   "metadata": {},
   "source": [
    "<a id='condensing'></a>\n",
    "### Condensing the Trip Data\n",
    "\n",
    "It should be observable from the above printout that each city provides different information. Even where the information is the same, the column names and formats are sometimes different. To make things as simple as possible when we get to the actual exploration, we should trim and clean the data. Cleaning the data makes sure that the data formats across the cities are consistent, while trimming focuses only on the parts of the data we are most interested in to make the exploration easier to work with.\n",
    "\n",
    "we will generate new data files with five values of interest for each trip: trip duration, starting month, starting hour, day of the week, and user type. Each of these may require additional wrangling depending on the city:\n",
    "\n",
    "- **Duration**: This has been given to us in seconds (New York, Chicago) or milliseconds (Washington). A more natural unit of analysis will be if all the trip durations are given in terms of minutes.\n",
    "- **Month**, **Hour**, **Day of Week**: Ridership volume is likely to change based on the season, time of day, and whether it is a weekday or weekend. we will use start time of the trip to obtain these values. The New York City data includes the seconds in their timestamps, while Washington and Chicago do not.  \n",
    "- **User Type**: It is possible that users who are subscribed to a bike-share system will have different patterns of use compared to users who only have temporary passes. Washington divides its users into two types: 'Registered' for users with annual, monthly, and other longer-term subscriptions, and 'Casual', for users with 24-hour, 3-day, and other short-term passes. The New York and Chicago data uses 'Subscriber' and 'Customer' for these groups, respectively. For consistency, we will convert the Washington labels to match the other two."
   ]
  },
  {
   "cell_type": "code",
   "execution_count": 4,
   "metadata": {},
   "outputs": [],
   "source": [
    "def duration_in_mins(datum, city):\n",
    "    \"\"\"\n",
    "    Takes as input a dictionary containing info about a single trip (datum) and\n",
    "    its origin city (city) and returns the trip duration in units of minutes. \n",
    "    \"\"\"\n",
    "# convert duration to be consistent across cities\n",
    "     \n",
    "    if city=='Washington':\n",
    "        duration=int(datum['Duration (ms)'])/60000\n",
    "    else:\n",
    "        duration=int(datum['tripduration'])/60\n",
    "    \n",
    "    return duration"
   ]
  },
  {
   "cell_type": "code",
   "execution_count": 5,
   "metadata": {},
   "outputs": [],
   "source": [
    "def time_of_trip(datum, city):\n",
    "    \"\"\"\n",
    "    Takes as input a dictionary containing info about a single trip (datum) and\n",
    "    its origin city (city) and returns the month, hour, and day of the week in\n",
    "    which the trip was made.\n",
    "    \"\"\"\n",
    "# format date and time to be consistent across cities\n",
    "    if city=='Washington':\n",
    "        date=datetime.strptime(datum['Start date'],\"%m/%d/%Y %H:%M\")\n",
    "        month=date.month\n",
    "        hour=date.hour\n",
    "        day_of_week=date.strftime('%A')\n",
    "    elif city=='NYC':\n",
    "        date=datetime.strptime(datum['starttime'],\"%m/%d/%Y %H:%M:%S\")\n",
    "        month=date.month\n",
    "        hour=date.hour\n",
    "        day_of_week=date.strftime('%A')\n",
    "    else:\n",
    "        date=datetime.strptime(datum['starttime'],\"%m/%d/%Y %H:%M\")\n",
    "        month=date.month\n",
    "        hour=date.hour\n",
    "        day_of_week=date.strftime('%A')\n",
    "    return (month, hour, day_of_week)"
   ]
  },
  {
   "cell_type": "code",
   "execution_count": 6,
   "metadata": {},
   "outputs": [],
   "source": [
    "def type_of_user(datum, city):\n",
    "    \"\"\"\n",
    "    Takes as input a dictionary containing info about a single trip (datum) and\n",
    "    its origin city (city) and returns the type of system user that made the\n",
    "    trip.\n",
    "    \"\"\"\n",
    "    # make user type consistent across cities\n",
    "    if city=='Washington':\n",
    "        user_type= datum['Member Type']\n",
    "    else:\n",
    "        user_type= datum['usertype']\n",
    "    return user_type"
   ]
  },
  {
   "cell_type": "markdown",
   "metadata": {},
   "source": [
    "now we willl condense data and prepare it to further use and exploration"
   ]
  },
  {
   "cell_type": "code",
   "execution_count": 7,
   "metadata": {},
   "outputs": [],
   "source": [
    "def condense_data(in_file, out_file, city):\n",
    "    \"\"\"\n",
    "    This function takes full data from the specified input file\n",
    "    and writes the condensed data to a specified output file. The city\n",
    "    argument determines how the input file will be parsed.\n",
    "    \"\"\"\n",
    "    \n",
    "    with open(out_file, 'w') as f_out, open(in_file, 'r') as f_in:\n",
    "        # set up csv DictWriter object  \n",
    "        # writer requires column names for the first row as the \"fieldnames\" argument\n",
    "        out_colnames = ['duration', 'month', 'hour', 'day_of_week', 'user_type']        \n",
    "        trip_writer = csv.DictWriter(f_out, fieldnames = out_colnames)\n",
    "        trip_writer.writeheader()\n",
    "        \n",
    "        ## set up csv DictReader object\n",
    "        trip_reader = csv.DictReader(f_in)\n",
    "\n",
    "        # collect data from in_file and process each row\n",
    "        for row in trip_reader:\n",
    "            # set up a dictionary to hold the values for the cleaned and trimmed\n",
    "            # data point\n",
    "            new_point = {}\n",
    "\n",
    "            ## get the cleaned data from the original data dictionaries.\n",
    "            new_point['duration']=duration_in_mins(row,city)\n",
    "            new_point['month'],new_point['hour'],new_point['day_of_week']=time_of_trip(row,city)\n",
    "            new_point['user_type']= type_of_user(row,city)\n",
    "\n",
    "            ## write the processed information to the output file.\n",
    "            trip_writer.writerow(new_point)\n",
    "            "
   ]
  },
  {
   "cell_type": "code",
   "execution_count": 8,
   "metadata": {},
   "outputs": [
    {
     "name": "stdout",
     "output_type": "stream",
     "text": [
      "\n",
      "City: Washington\n",
      "OrderedDict([('duration', '7.123116666666666'),\n",
      "             ('month', '3'),\n",
      "             ('hour', '22'),\n",
      "             ('day_of_week', 'Thursday'),\n",
      "             ('user_type', 'Registered')])\n",
      "\n",
      "City: Chicago\n",
      "OrderedDict([('duration', '15.433333333333334'),\n",
      "             ('month', '3'),\n",
      "             ('hour', '23'),\n",
      "             ('day_of_week', 'Thursday'),\n",
      "             ('user_type', 'Subscriber')])\n",
      "\n",
      "City: NYC\n",
      "OrderedDict([('duration', '13.983333333333333'),\n",
      "             ('month', '1'),\n",
      "             ('hour', '0'),\n",
      "             ('day_of_week', 'Friday'),\n",
      "             ('user_type', 'Customer')])\n"
     ]
    }
   ],
   "source": [
    "# check if everything works right\n",
    "city_info = {'Washington': {'in_file': 'Washington-CapitalBikeshare-2016.csv',\n",
    "                            'out_file': 'Washington-2016-Summary.csv'},\n",
    "             'Chicago': {'in_file': 'Chicago-Divvy-2016.csv',\n",
    "                         'out_file': 'Chicago-2016-Summary.csv'},\n",
    "             'NYC': {'in_file': 'NYC-CitiBike-2016.csv',\n",
    "                     'out_file': 'NYC-2016-Summary.csv'}}\n",
    "\n",
    "for city, filenames in city_info.items():\n",
    "    condense_data(filenames['in_file'], filenames['out_file'], city)\n",
    "    print_first_point(filenames['out_file'])"
   ]
  },
  {
   "cell_type": "markdown",
   "metadata": {},
   "source": [
    "<a id='eda'></a>\n",
    "## Exploratory Data Analysis\n",
    "\n",
    "Now that we have the data collected and wrangled, we're ready to start exploring the data. In this section we will write some code to compute descriptive statistics from the data. we will also be introduced to the `matplotlib` library to create some basic histograms of the data.\n",
    "\n",
    "<a id='statistics'></a>\n",
    "### Statistics\n",
    "\n",
    "First, let's compute some basic counts to answer these questions:\n",
    "\n",
    "Which city has the highest number of trips?  \n",
    "Which city has the highest proportion of trips made by subscribers?  \n",
    "Which city has the highest proportion of trips made by short-term customers?\n"
   ]
  },
  {
   "cell_type": "code",
   "execution_count": 11,
   "metadata": {},
   "outputs": [],
   "source": [
    "def number_of_trips(filename):\n",
    "    \"\"\"\n",
    "    This function reads in a file with trip data and reports the number of\n",
    "    trips made by subscribers, customers, and total overall.\n",
    "    \"\"\"\n",
    "     # print city name for reference\n",
    "    city = filename.split('-')[0].split('/')[-1]\n",
    "    print('\\nCity: {}'.format(city))\n",
    "    with open(filename, 'r') as f_in:\n",
    "        # set up csv reader object\n",
    "        reader = csv.DictReader(f_in)\n",
    "        \n",
    "        # initialize count variables\n",
    "        subscriber = 0\n",
    "        customer = 0\n",
    "        total=0\n",
    "        # tally up ride types\n",
    "        for row in reader:\n",
    "            if (filename =='Washington-2016-Summary.csv' and row['user_type'] == 'Registered'):\n",
    "                subscriber += 1\n",
    "                total +=1\n",
    "            elif (filename =='Washington-2016-Summary.csv' and row['user_type'] == 'Casual'):\n",
    "                customer += 1\n",
    "                total += 1\n",
    "            elif (filename =='Chicago-2016-Summary.csv' and row['user_type'] == 'Subscriber'):\n",
    "                subscriber += 1\n",
    "                total += 1\n",
    "            elif (filename =='Chicago-2016-Summary.csv' and row['user_type'] == 'Customer'):\n",
    "                customer += 1\n",
    "                total += 1\n",
    "            elif (filename =='NYC-2016-Summary.csv' and row['user_type'] == 'Customer'):\n",
    "                customer += 1\n",
    "                total += 1\n",
    "            elif (filename =='NYC-2016-Summary.csv' and row['user_type'] == 'Subscriber'):\n",
    "                subscriber += 1\n",
    "                total += 1\n",
    "   \n",
    "        # return tallies as a tuple\n",
    "        return(customer,subscriber,total)"
   ]
  },
  {
   "cell_type": "code",
   "execution_count": 12,
   "metadata": {},
   "outputs": [
    {
     "name": "stdout",
     "output_type": "stream",
     "text": [
      "\n",
      "City: Washington\n",
      "(14573, 51753, 66326)\n",
      "\n",
      "City: Chicago\n",
      "(17149, 54982, 72131)\n",
      "\n",
      "City: NYC\n",
      "(30185, 245896, 276081)\n"
     ]
    }
   ],
   "source": [
    "# check if everything works right\n",
    "\n",
    "data_file = ['Washington-2016-Summary.csv',\n",
    "             'Chicago-2016-Summary.csv',\n",
    "             'NYC-2016-Summary.csv']\n",
    "for item in data_file:\n",
    "    print(number_of_trips(item))"
   ]
  },
  {
   "cell_type": "markdown",
   "metadata": {},
   "source": [
    "we can see that,  \n",
    "\n",
    "New York City has the highest number of total trips,  \n",
    "\n",
    "Chicago has the highest proportion of trips made by subscribers and  \n",
    "\n",
    "New York City also has the highest proportion of trips made by short-term customers"
   ]
  },
  {
   "cell_type": "markdown",
   "metadata": {},
   "source": [
    "Now, we will continue investigating properties of the data to answer these questions:  \n",
    "\n",
    "Bike-share systems are designed for riders to take short trips. Most of the time,  \n",
    "\n",
    "users are allowed to take trips of 30 minutes or less with no additional charges,  \n",
    "\n",
    "with overage charges made for trips of longer than that duration.  \n",
    "\n",
    "What is the average trip length for each city?  \n",
    "\n",
    "What proportion of rides made in each city are longer than 30 minutes?"
   ]
  },
  {
   "cell_type": "code",
   "execution_count": 13,
   "metadata": {
    "scrolled": true
   },
   "outputs": [],
   "source": [
    "def trip_duration_avg(filename):\n",
    "    \"\"\"\n",
    "    this function takes a file and computes the average trip duration of it in minutes \n",
    "    filename: the file that contains cleaned data\n",
    "    \"\"\"\n",
    "     # print city name for reference\n",
    "    city = filename.split('-')[0].split('/')[-1]\n",
    "    print('\\nCity: {}'.format(city))\n",
    "    with open(filename) as f_in:\n",
    "        #setting up the reader object to read each row in the file\n",
    "        reader = csv.DictReader(f_in)\n",
    "        sum_of_durations =0\n",
    "        trips_over_30_mins=0\n",
    "        row_count=0\n",
    "        \n",
    "        for row in reader:\n",
    "            if float(row['duration'])> 0:\n",
    "                row_count+=1\n",
    "                sum_of_durations += float(row['duration'])\n",
    "                \n",
    "            if float(row['duration']) > 30:\n",
    "                trips_over_30_mins+=1\n",
    "                \n",
    "    average= int(sum_of_durations/row_count)   \n",
    "    percentage=(trips_over_30_mins/row_count)*100\n",
    "    return average,str(percentage)+\" %\""
   ]
  },
  {
   "cell_type": "code",
   "execution_count": 14,
   "metadata": {
    "scrolled": true
   },
   "outputs": [
    {
     "name": "stdout",
     "output_type": "stream",
     "text": [
      "\n",
      "City: Washington\n",
      "(18, '10.83888671109369 %')\n",
      "\n",
      "City: Chicago\n",
      "(16, '8.332062497400562 %')\n",
      "\n",
      "City: NYC\n",
      "(15, '7.3024371563378345 %')\n"
     ]
    }
   ],
   "source": [
    "data_file=['Washington-2016-Summary.csv',\n",
    "            'Chicago-2016-Summary.csv',\n",
    "             'NYC-2016-Summary.csv']\n",
    "for item in data_file:\n",
    "    print(trip_duration_avg(item))"
   ]
  },
  {
   "cell_type": "markdown",
   "metadata": {},
   "source": [
    "we can see that,  \n",
    "\n",
    "Washington has average trip length of 18 minutes, 10,8% of rides are longer than 30 minutes  \n",
    "\n",
    "Chicago has average trip length of 16 minutes, 8.3%  of rides are longer than 30 minutes  \n",
    "\n",
    "NYC has average trip length of 15 minutes, 7.3%  of rides are longer than 30 minutes \n",
    "            "
   ]
  },
  {
   "cell_type": "markdown",
   "metadata": {},
   "source": [
    "We will Dig deeper into the question of trip duration based on ridership to answer a question:  \n",
    "\n",
    "Within a city, which type of user takes longer rides on average: Subscribers or Customers?           "
   ]
  },
  {
   "cell_type": "code",
   "execution_count": 15,
   "metadata": {},
   "outputs": [],
   "source": [
    "def trip_average_based_on_user_type(filename):\n",
    "    \"\"\"\n",
    "    this function takes a file (filename) and calculates the average trip duration\n",
    "    of each type of user in a specific city\n",
    "    \"\"\"\n",
    "    customer_count=0\n",
    "    subscriber_count=0\n",
    "    customer_trip_duration=0\n",
    "    subscriber_trip_duration=0\n",
    "    with open(filename) as f_in:\n",
    "        reader= csv.DictReader(f_in)\n",
    "        for row in reader:\n",
    "            if row['user_type']=='Customer':\n",
    "                customer_count += 1\n",
    "                customer_trip_duration+=float(row['duration'])\n",
    "            else:\n",
    "                subscriber_count += 1\n",
    "                subscriber_trip_duration+= float(row['duration'])\n",
    "                \n",
    "        average_customers=customer_trip_duration/customer_count\n",
    "        average_subscribers=subscriber_trip_duration/subscriber_count\n",
    "        \n",
    "    return average_customers,average_subscribers    \n",
    "\n",
    "\n"
   ]
  },
  {
   "cell_type": "code",
   "execution_count": 16,
   "metadata": {},
   "outputs": [
    {
     "name": "stdout",
     "output_type": "stream",
     "text": [
      "(32.982004306775025, 13.711087074350004)\n"
     ]
    }
   ],
   "source": [
    "data_file='NYC-2016-Summary.csv'\n",
    "\n",
    "print(trip_average_based_on_user_type(data_file))"
   ]
  },
  {
   "cell_type": "markdown",
   "metadata": {},
   "source": [
    "Within NYC, Customers took longer rides of (32.98 minutes) than Subscribers who took (13.7 minutes) on average"
   ]
  },
  {
   "cell_type": "markdown",
   "metadata": {},
   "source": [
    "<a id='visualizations'></a>\n",
    "### Visualizations\n",
    "\n",
    "The last set of values that we computed should have pulled up an interesting result.  \n",
    "While the mean trip time for Subscribers is well under 30 minutes,  \n",
    "the mean trip time for Customers is actually _above_ 30 minutes!  \n",
    "It will be interesting for us to look at how the trip times are distributed. In order to do this,  \n",
    "a new library will be introduced here, `matplotlib`."
   ]
  },
  {
   "cell_type": "code",
   "execution_count": 19,
   "metadata": {},
   "outputs": [],
   "source": [
    "def ploting_durations(filename):\n",
    "    \"\"\"\n",
    "    this function plots the trip durations in the city \n",
    "    filename: the data file that contains our desired data\n",
    "    \"\"\"\n",
    "    data_list=[]\n",
    "    with open(filename) as f_in:\n",
    "        reader=csv.DictReader(f_in)\n",
    "        for row in reader:\n",
    "            if float(row['duration']) > 0:\n",
    "                data_list.append(float(row['duration']))    \n",
    "                \n",
    "    return data_list        "
   ]
  },
  {
   "cell_type": "code",
   "execution_count": 20,
   "metadata": {
    "scrolled": false
   },
   "outputs": [
    {
     "data": {
      "image/png": "[encoded data removed]",
      "text/plain": [
       "<matplotlib.figure.Figure at 0x7f0cd91e39b0>"
      ]
     },
     "metadata": {},
     "output_type": "display_data"
    }
   ],
   "source": [
    "%matplotlib inline\n",
    "\n",
    "data_file='NYC-2016-Summary.csv'\n",
    "all_data=ploting_durations(data_file)\n",
    "\n",
    "plt.hist(all_data,[10,20,30,40,50,60,70,75],[1,39000])\n",
    "plt.title('Distribution of All Trip Durations in NYC')\n",
    "plt.xlabel('Duration (m)')\n",
    "plt.show()\n"
   ]
  },
  {
   "cell_type": "markdown",
   "metadata": {},
   "source": [
    "as we can see, The plot consists of one extremely tall bar on the left, maybe a very short second bar,  \n",
    "\n",
    "and a whole lot of empty space in the center and right.  \n",
    "\n",
    "This suggests that there are some highly infrequent outliers in the data.  \n",
    "\n",
    "Instead of reprocessing the data, we will use additional parameters with the `.hist()` function to limit the range of data that is plotted. "
   ]
  },
  {
   "cell_type": "code",
   "execution_count": 21,
   "metadata": {},
   "outputs": [],
   "source": [
    "def ploting_Customer_subscriber_durations(filename):\n",
    "    \"\"\"\n",
    "    this function plots the trip durations in the city for Customers and Subscribers \n",
    "    filename: the data file that contains our desired data\n",
    "    \"\"\"\n",
    "    Customers_list=[]\n",
    "    Subscribers_list=[]\n",
    "    with open(filename) as f_in:\n",
    "        reader=csv.DictReader(f_in)\n",
    "        for row in reader:\n",
    "            if row['user_type']=='Subscriber' and float(row['duration']) > 0:\n",
    "                Subscribers_list.append(float(row['duration']))\n",
    "            elif row['user_type']=='Customer' and float(row['duration']) > 0:\n",
    "                Customers_list.append(float(row['duration']))     \n",
    "                \n",
    "    return(Subscribers_list,Customers_list)           \n",
    "     \n"
   ]
  },
  {
   "cell_type": "code",
   "execution_count": 22,
   "metadata": {},
   "outputs": [
    {
     "data": {
      "image/png": "[encoded data removed]",
      "text/plain": [
       "<matplotlib.figure.Figure at 0x7f0cc10f5eb8>"
      ]
     },
     "metadata": {},
     "output_type": "display_data"
    },
    {
     "data": {
      "image/png": "[encoded data removed]",
      "text/plain": [
       "<matplotlib.figure.Figure at 0x7f0cb47efe48>"
      ]
     },
     "metadata": {},
     "output_type": "display_data"
    }
   ],
   "source": [
    "%matplotlib inline\n",
    "\n",
    "data_file='NYC-2016-Summary.csv'\n",
    "Subscribers_data, Customer_data =ploting_Customer_subscriber_durations(data_file)\n",
    "\n",
    "\n",
    "plt.hist(Subscribers_data,[10,20,30,40,50,60,70,75],[1,39395])\n",
    "plt.title('Distribution of Subscribers Trip Durations in NYC')\n",
    "plt.xlabel('Duration (m)')\n",
    "plt.show()\n",
    "plt.hist(Customer_data,[10,20,30,40,50,60,70,75],[1,12099])\n",
    "plt.title('Distribution of Customers Trip Durations in NYC')\n",
    "plt.xlabel('Duration (m)')\n",
    "plt.show()\n",
    "\n"
   ]
  },
  {
   "cell_type": "markdown",
   "metadata": {},
   "source": [
    "For Customers, the peak point is almost flat(no clear peak, just two almost equal bars)  \n",
    "\n",
    "ranging from 5 to 25 and from 25 to 35 minutes  \n",
    "\n",
    "it is right skewed and I can't specify a peak in the figure so it could be unimodal around 5 to 35 minutes.\n",
    "            \n",
    "For Suscribers, the peak point is nearly from 5 to 15 minutes  \n",
    "\n",
    "also it is right skewed and clearly it is unimodal around 5 to15 minutes as it has one clear peak."
   ]
  },
  {
   "cell_type": "markdown",
   "metadata": {
    "collapsed": true
   },
   "source": [
    "<a id='eda_continued'></a>\n",
    "## Performing Further Analysis\n",
    "\n",
    "So far, we've performed an initial exploration into the data available.  \n",
    "\n",
    "we have compared the relative volume of trips made between three U.S. cities  \n",
    "\n",
    "and the ratio of trips made by Subscribers and Customers.  \n",
    "\n",
    "For one of these cities, we have investigated differences between Subscribers and Customers  \n",
    "\n",
    "in terms of how long a typical trip lasts.  \n",
    "\n",
    "Now it is time to continue the exploration on more detail. Here are our questions to be answered:  \n",
    "\n",
    "            1- Which state has the largest number of users ?\n",
    "\n",
    "            2- What is the average trip duration in each state?\n",
    "            \n",
    "            3- Which day of the week is the heaviest in user traffic ? which user type is heavier?\n",
    "\n",
    "\n",
    "## Posing Questions\n",
    "  \n",
    "    Is the pattern of ridership different on the weekends versus weekdays?\n",
    "    On what days are Subscribers most likely to use the system? What about Customers?\n",
    "    Does the average duration of rides change depending on the day of the week?\n",
    "    \n",
    "    \n",
    "            \n"
   ]
  },
  {
   "cell_type": "markdown",
   "metadata": {},
   "source": [
    "## Data Collection And Wrangling"
   ]
  },
  {
   "cell_type": "code",
   "execution_count": 23,
   "metadata": {},
   "outputs": [
    {
     "name": "stdout",
     "output_type": "stream",
     "text": [
      "\n",
      "City: NYC\n",
      "OrderedDict([('tripduration', '839'),\n",
      "             ('starttime', '1/1/2016 00:09:55'),\n",
      "             ('stoptime', '1/1/2016 00:23:54'),\n",
      "             ('start station id', '532'),\n",
      "             ('start station name', 'S 5 Pl & S 4 St'),\n",
      "             ('start station latitude', '40.710451'),\n",
      "             ('start station longitude', '-73.960876'),\n",
      "             ('end station id', '401'),\n",
      "             ('end station name', 'Allen St & Rivington St'),\n",
      "             ('end station latitude', '40.72019576'),\n",
      "             ('end station longitude', '-73.98997825'),\n",
      "             ('bikeid', '17109'),\n",
      "             ('usertype', 'Customer'),\n",
      "             ('birth year', ''),\n",
      "             ('gender', '0')])\n",
      "\n",
      "City: Chicago\n",
      "OrderedDict([('trip_id', '9080545'),\n",
      "             ('starttime', '3/31/2016 23:30'),\n",
      "             ('stoptime', '3/31/2016 23:46'),\n",
      "             ('bikeid', '2295'),\n",
      "             ('tripduration', '926'),\n",
      "             ('from_station_id', '156'),\n",
      "             ('from_station_name', 'Clark St & Wellington Ave'),\n",
      "             ('to_station_id', '166'),\n",
      "             ('to_station_name', 'Ashland Ave & Wrightwood Ave'),\n",
      "             ('usertype', 'Subscriber'),\n",
      "             ('gender', 'Male'),\n",
      "             ('birthyear', '1990')])\n",
      "\n",
      "City: Washington\n",
      "OrderedDict([('Duration (ms)', '427387'),\n",
      "             ('Start date', '3/31/2016 22:57'),\n",
      "             ('End date', '3/31/2016 23:04'),\n",
      "             ('Start station number', '31602'),\n",
      "             ('Start station', 'Park Rd & Holmead Pl NW'),\n",
      "             ('End station number', '31207'),\n",
      "             ('End station', 'Georgia Ave and Fairmont St NW'),\n",
      "             ('Bike number', 'W20842'),\n",
      "             ('Member Type', 'Registered')])\n"
     ]
    }
   ],
   "source": [
    "def print_first_record(filename):\n",
    "    \"\"\"\n",
    "    This function prints and returns the first data record after the header from\n",
    "    a csv file that includes a header row.\n",
    "    \"\"\"\n",
    "    # print city name for reference\n",
    "    city = filename.split('-')[0].split('/')[-1]\n",
    "    print('\\nCity: {}'.format(city))\n",
    "    \n",
    "    with open(filename, 'r') as f_in:\n",
    "       # setting up a dict reader object\n",
    "        trip_reader = csv.DictReader(f_in)\n",
    "        # extracting the first data row in th file\n",
    "        first_trip = next(trip_reader)\n",
    "        \n",
    "        # printing the first trip\n",
    "        pprint(first_trip)\n",
    "    # output city name and first trip \n",
    "    return (city, first_trip)\n",
    "\n",
    "# list of files for each city\n",
    "data_files = ['NYC-CitiBike-2016.csv',\n",
    "              'Chicago-Divvy-2016.csv',\n",
    "              'Washington-CapitalBikeshare-2016.csv',]\n",
    "\n",
    "# print the first trip from each file, store in dictionary\n",
    "example_trips = {}\n",
    "for data_file in data_files:\n",
    "    city, first_trip = print_first_point(data_file)\n",
    "    example_trips[city] = first_trip"
   ]
  },
  {
   "cell_type": "markdown",
   "metadata": {},
   "source": [
    "## Condinsing The Trip Data \n",
    "\n",
    "-  **Type of user**: to help me know how many Subscribers or Registered clients and short-term Customers are there.  \n",
    "\n",
    "-  **Day of week**: to find out are the week day or the week end heavier on rides and from what kind of users.  \n",
    "\n",
    "-  **Duration**: to find out does the duration of the trip changes depending on the day of the week.\n",
    "             "
   ]
  },
  {
   "cell_type": "code",
   "execution_count": 24,
   "metadata": {},
   "outputs": [],
   "source": [
    "def duration_in_minutes(datum, city):\n",
    "    \"\"\"\n",
    "    Takes as input a dictionary containing info about a single trip (datum) and\n",
    "    its origin city (city) and returns the trip duration in units of minutes.\n",
    "    \n",
    "     time in Washington is in terms of milliseconds while Chicago and NYC\n",
    "     are in terms of seconds.\n",
    "    \"\"\"\n",
    "     \n",
    "    if city=='Washington':\n",
    "        duration=int(datum['Duration (ms)'])/60000\n",
    "    else:\n",
    "        duration=int(datum['tripduration'])/60\n",
    "    \n",
    "    return duration\n"
   ]
  },
  {
   "cell_type": "code",
   "execution_count": 25,
   "metadata": {},
   "outputs": [],
   "source": [
    "def week_day(datum, city):\n",
    "    \"\"\"\n",
    "    Takes as input a dictionary containing info about a single trip (datum) and\n",
    "    its origin city (city) and returns the weekday in\n",
    "    which the trip was made \n",
    "    \"\"\"\n",
    "    \n",
    "    if city=='Washington':\n",
    "        date=datetime.strptime(datum['Start date'],\"%m/%d/%Y %H:%M\")\n",
    "        day_of_week=date.strftime('%A')\n",
    "    elif city=='NYC':\n",
    "        date=datetime.strptime(datum['starttime'],\"%m/%d/%Y %H:%M:%S\")\n",
    "        day_of_week=date.strftime('%A')\n",
    "    else:\n",
    "        date=datetime.strptime(datum['starttime'],\"%m/%d/%Y %H:%M\")\n",
    "        day_of_week=date.strftime('%A')\n",
    "        \n",
    "    return day_of_week\n"
   ]
  },
  {
   "cell_type": "code",
   "execution_count": 26,
   "metadata": {},
   "outputs": [],
   "source": [
    "def user_type(datum, city):\n",
    "    \"\"\"\n",
    "    Takes as input a dictionary containing info about a single trip (datum) and\n",
    "    its origin city (city) and returns the type of system user that made the\n",
    "    trip \n",
    "    \"\"\"\n",
    "    \n",
    "    if city=='Washington':\n",
    "        user_type= datum['Member Type']\n",
    "    else:\n",
    "        user_type= datum['usertype']\n",
    "        \n",
    "    return user_type\n"
   ]
  },
  {
   "cell_type": "code",
   "execution_count": 27,
   "metadata": {},
   "outputs": [],
   "source": [
    "def clean_record_data(in_file, out_file, city):\n",
    "    \"\"\"\n",
    "    This function takes full data from the specified input file\n",
    "    and writes the cleaned processed data to a specified output file. The city\n",
    "    argument determines how the input file will be parsed.\n",
    "    \"\"\"\n",
    "    \n",
    "    with open(out_file, 'w') as f_out, open(in_file, 'r') as f_in:\n",
    "        # setting up a dict writer object\n",
    "        out_colnames = ['duration', 'day_of_week', 'user_type']        \n",
    "        trip_writer = csv.DictWriter(f_out, fieldnames = out_colnames)\n",
    "        trip_writer.writeheader()\n",
    "        \n",
    "        # setting up a dict reader object\n",
    "        trip_reader = csv.DictReader(f_in)\n",
    "\n",
    "        # collecting and processing data from each row\n",
    "        for row in trip_reader:\n",
    "            # setting up a dictionary to hold the values for the cleaned and trimmed\n",
    "            # data point\n",
    "            new_point = {}\n",
    "            # condinsing data to fit my need\n",
    "            new_point['duration']=duration_in_minutes(row,city)\n",
    "            new_point['day_of_week']=week_day(row,city)\n",
    "            new_point['user_type']= user_type(row,city)\n",
    "            # writing the condinsed data to the new files\n",
    "            trip_writer.writerow(new_point)"
   ]
  },
  {
   "cell_type": "code",
   "execution_count": 28,
   "metadata": {},
   "outputs": [
    {
     "name": "stdout",
     "output_type": "stream",
     "text": [
      "\n",
      "City: Washington\n",
      "OrderedDict([('duration', '7.123116666666666'),\n",
      "             ('day_of_week', 'Thursday'),\n",
      "             ('user_type', 'Registered')])\n",
      "\n",
      "City: Chicago\n",
      "OrderedDict([('duration', '15.433333333333334'),\n",
      "             ('day_of_week', 'Thursday'),\n",
      "             ('user_type', 'Subscriber')])\n",
      "\n",
      "City: NYC\n",
      "OrderedDict([('duration', '13.983333333333333'),\n",
      "             ('day_of_week', 'Friday'),\n",
      "             ('user_type', 'Customer')])\n"
     ]
    }
   ],
   "source": [
    "# Checking the function\n",
    "city_info = {'Washington': {'in_file': 'Washington-CapitalBikeshare-2016.csv',\n",
    "                            'out_file': 'Washington-2016-Summary2.csv'},\n",
    "             'Chicago': {'in_file': 'Chicago-Divvy-2016.csv',\n",
    "                         'out_file': 'Chicago-2016-Summary2.csv'},\n",
    "             'NYC': {'in_file': 'NYC-CitiBike-2016.csv',\n",
    "                     'out_file': 'NYC-2016-Summary2.csv'}}\n",
    "\n",
    "for city, filenames in city_info.items():\n",
    "    clean_record_data(filenames['in_file'], filenames['out_file'], city)\n",
    "    print_first_point(filenames['out_file'])"
   ]
  },
  {
   "cell_type": "markdown",
   "metadata": {},
   "source": [
    "## Exploratory Data Analysis\n",
    "\n",
    "\n",
    "# Statistics:"
   ]
  },
  {
   "cell_type": "code",
   "execution_count": 29,
   "metadata": {},
   "outputs": [],
   "source": [
    "def number_of_trips_per_weekday(filename):\n",
    "    \"\"\"\n",
    "    This function reads in a file with trip data and reports the number of total\n",
    "    trips made on each day of the week \n",
    "    \"\"\"\n",
    "     # print city name for reference\n",
    "    city = filename.split('-')[0].split('/')[-1]\n",
    "    print('\\nCity: {}'.format(city))\n",
    "    with open(filename, 'r') as f_in:\n",
    "        # set up csv reader object\n",
    "        reader = csv.DictReader(f_in)\n",
    "        \n",
    "        # initialize count variables\n",
    "        Weekdays={}\n",
    "        sat_count=0\n",
    "        sun_count=0\n",
    "        mon_count=0\n",
    "        tues_count=0\n",
    "        wed_count=0\n",
    "        thur_count=0\n",
    "        fri_count=0\n",
    "        # tally up ride types\n",
    "        for row in reader:\n",
    "            if row['day_of_week'] == 'Saturday':\n",
    "                sat_count+=1\n",
    "                Weekdays[row['day_of_week']]= sat_count\n",
    "            elif row['day_of_week'] == 'Sunday':\n",
    "                sun_count+=1\n",
    "                Weekdays[row['day_of_week']]= sun_count\n",
    "            elif row['day_of_week'] == 'Monday':\n",
    "                mon_count+=1\n",
    "                Weekdays[row['day_of_week']]= mon_count\n",
    "            elif row['day_of_week'] == 'Tuesday':\n",
    "                tues_count+=1 \n",
    "                Weekdays[row['day_of_week']]= tues_count\n",
    "            elif row['day_of_week'] == 'Wednesday':\n",
    "                wed_count+=1 \n",
    "                Weekdays[row['day_of_week']]= wed_count\n",
    "            elif row['day_of_week'] == 'Thursday':\n",
    "                thur_count+=1 \n",
    "                Weekdays[row['day_of_week']]= thur_count\n",
    "            elif row['day_of_week'] == 'Friday':\n",
    "                fri_count+=1    \n",
    "                Weekdays[row['day_of_week']]= fri_count\n",
    "   \n",
    "\n",
    "        # return tallies as a tuple\n",
    "        return Weekdays"
   ]
  },
  {
   "cell_type": "code",
   "execution_count": 30,
   "metadata": {
    "scrolled": false
   },
   "outputs": [
    {
     "name": "stdout",
     "output_type": "stream",
     "text": [
      "\n",
      "City: Washington\n",
      "{'Thursday': 9984, 'Wednesday': 10103, 'Tuesday': 9748, 'Monday': 9394, 'Sunday': 8227, 'Saturday': 8900, 'Friday': 9970}\n",
      "\n",
      "City: Chicago\n",
      "{'Thursday': 10008, 'Wednesday': 9604, 'Tuesday': 10911, 'Monday': 11286, 'Sunday': 9654, 'Saturday': 9927, 'Friday': 10741}\n",
      "\n",
      "City: NYC\n",
      "{'Friday': 41389, 'Saturday': 33353, 'Sunday': 31352, 'Monday': 39340, 'Tuesday': 42405, 'Wednesday': 44629, 'Thursday': 44330}\n"
     ]
    }
   ],
   "source": [
    "data_file = ['Washington-2016-Summary2.csv',\n",
    "             'Chicago-2016-Summary2.csv',\n",
    "             'NYC-2016-Summary2.csv']\n",
    "for item in data_file:\n",
    "    print(number_of_trips_per_weekday(item))"
   ]
  },
  {
   "cell_type": "code",
   "execution_count": 31,
   "metadata": {},
   "outputs": [],
   "source": [
    "def trip_average_based_on_weekday(filename):\n",
    "    \"\"\"\n",
    "    this function takes a file (filename) and calculates the average trip duration on each day of the week\n",
    "    \"\"\"\n",
    "    \n",
    "    Weekdays={}\n",
    "    sat_count=0\n",
    "    sat_dur=0\n",
    "    sun_count=0\n",
    "    sun_dur=0\n",
    "    mon_count=0\n",
    "    mon_dur=0\n",
    "    tues_count=0\n",
    "    tues_dur=0\n",
    "    wed_count=0\n",
    "    wed_dur=0\n",
    "    thur_count=0\n",
    "    thur_dur=0\n",
    "    fri_count=0\n",
    "    fri_dur=0\n",
    "    with open(filename) as f_in:\n",
    "        reader= csv.DictReader(f_in)\n",
    "        for row in reader:\n",
    "            if row['day_of_week'] == 'Saturday':\n",
    "                sat_count+=1\n",
    "                sat_dur+= float(row['duration'])\n",
    "                Weekdays[row['day_of_week']]= sat_dur/sat_count\n",
    "            elif row['day_of_week'] == 'Sunday':\n",
    "                sun_count+=1\n",
    "                sun_dur+= float(row['duration'])\n",
    "                Weekdays[row['day_of_week']]= sun_dur/sun_count\n",
    "            elif row['day_of_week'] == 'Monday':\n",
    "                mon_count+=1\n",
    "                mon_dur+= float(row['duration'])\n",
    "                Weekdays[row['day_of_week']]= mon_dur/mon_count\n",
    "            elif row['day_of_week'] == 'Tuesday':\n",
    "                tues_count+=1\n",
    "                tues_dur+= float(row['duration'])\n",
    "                Weekdays[row['day_of_week']]= tues_dur/tues_count\n",
    "            elif row['day_of_week'] == 'Wednesday':\n",
    "                wed_count+=1\n",
    "                wed_dur+= float(row['duration'])\n",
    "                Weekdays[row['day_of_week']]= wed_dur/wed_count\n",
    "            elif row['day_of_week'] == 'Thursday':\n",
    "                thur_count+=1\n",
    "                thur_dur+= float(row['duration'])\n",
    "                Weekdays[row['day_of_week']]= thur_dur/thur_count\n",
    "            elif row['day_of_week'] == 'Friday':\n",
    "                fri_count+=1    \n",
    "                fri_dur+= float(row['duration'])\n",
    "                Weekdays[row['day_of_week']]= fri_dur/fri_count\n",
    "        \n",
    "        \n",
    "    return Weekdays"
   ]
  },
  {
   "cell_type": "code",
   "execution_count": 32,
   "metadata": {},
   "outputs": [
    {
     "name": "stdout",
     "output_type": "stream",
     "text": [
      "{'Thursday': 16.685823671207284, 'Wednesday': 16.294892746379023, 'Tuesday': 16.69108387361512, 'Monday': 17.5637550635157, 'Sunday': 23.972442542846792, 'Saturday': 24.81150271161071, 'Friday': 17.931890384486792}\n",
      "{'Thursday': 13.933764654942733, 'Wednesday': 14.462123420796864, 'Tuesday': 14.297109950203156, 'Monday': 16.115381889066008, 'Sunday': 21.381674262827143, 'Saturday': 20.630974446794895, 'Friday': 15.576898488657195}\n",
      "{'Friday': 16.023964096740567, 'Saturday': 18.795957884848054, 'Sunday': 18.789433954239893, 'Monday': 15.07595238095228, 'Tuesday': 14.297031403529449, 'Wednesday': 14.636322047696872, 'Thursday': 14.552951725693545}\n"
     ]
    }
   ],
   "source": [
    "data_file=['Washington-2016-Summary2.csv',\n",
    "            'Chicago-2016-Summary2.csv',\n",
    "             'NYC-2016-Summary2.csv']\n",
    "for item in data_file:\n",
    "    print(trip_average_based_on_weekday(item))"
   ]
  },
  {
   "cell_type": "markdown",
   "metadata": {},
   "source": [
    "## Visualizations"
   ]
  },
  {
   "cell_type": "code",
   "execution_count": 33,
   "metadata": {},
   "outputs": [],
   "source": [
    "def ploting_average(filename):\n",
    "    \"\"\"\n",
    "    this function plots the trip durations in each day of the week\n",
    "    filename: the data file that contains our desired data\n",
    "    \"\"\"\n",
    "    days=[]\n",
    "    data=[]\n",
    "    rawdata=trip_average_based_on_weekday(filename)\n",
    "    for k,v in rawdata.items():\n",
    "        days.append(k)\n",
    "        data.append(v)\n",
    "            \n",
    "                \n",
    "    return days,data"
   ]
  },
  {
   "cell_type": "code",
   "execution_count": 34,
   "metadata": {},
   "outputs": [
    {
     "data": {
      "image/png": "[encoded data removed]",
      "text/plain": [
       "<matplotlib.figure.Figure at 0x7f0ce0bb70f0>"
      ]
     },
     "metadata": {},
     "output_type": "display_data"
    }
   ],
   "source": [
    "%matplotlib inline\n",
    "\n",
    "\n",
    "data_file = 'Washington-2016-Summary2.csv'\n",
    "days,data = ploting_average(data_file)\n",
    "\n",
    "\n",
    "\n",
    "plt.title('Distribution of average trip duration on each day of the week in WDC')\n",
    "plt.xlabel('Days of the week')\n",
    "plt.bar(days,data)\n",
    "plt.xticks(days)\n",
    "plt.show()"
   ]
  },
  {
   "cell_type": "markdown",
   "metadata": {},
   "source": [
    "As we can see, the average trip duration is high on Tuesday and Thrsday in Washington  \n",
    "\n",
    "and Almost equal on other days of the week"
   ]
  },
  {
   "cell_type": "markdown",
   "metadata": {},
   "source": [
    "<a id='conclusions'></a>\n",
    "## Conclusions\n",
    "\n",
    "\n",
    "Putting the bike share data aside,  \n",
    "\n",
    "think of a topic or field of interest where you would like to be able to apply the techniques of data science. What would \n",
    "\n",
    "you like to be able to learn from your chosen subject?\n",
    "\n",
    "\n",
    "            College Enrollment System\n",
    "            \n",
    "            I would like to find patterns about How Student's behaviour vary from one school to another \n",
    "            And what factors control which faculty a student would enroll in. \n",
    "            Not only the degrees or grades is the factor. I think there are more factors hiding out there!"
   ]
  },
  {
   "cell_type": "code",
   "execution_count": 35,
   "metadata": {},
   "outputs": [
    {
     "data": {
      "text/plain": [
       "0"
      ]
     },
     "execution_count": 35,
     "metadata": {},
     "output_type": "execute_result"
    }
   ],
   "source": [
    "from subprocess import call\n",
    "call(['python', '-m', 'nbconvert', 'Bike_Share_Analysis.ipynb'])"
   ]
  },
  {
   "cell_type": "code",
   "execution_count": null,
   "metadata": {},
   "outputs": [],
   "source": []
  }
 ],
 "metadata": {
  "anaconda-cloud": {},
  "kernelspec": {
   "display_name": "Python [default]",
   "language": "python",
   "name": "python3"
  },
  "language_info": {
   "codemirror_mode": {
    "name": "ipython",
    "version": 3
   },
   "file_extension": ".py",
   "mimetype": "text/x-python",
   "name": "python",
   "nbconvert_exporter": "python",
   "pygments_lexer": "ipython3",
   "version": "3.6.4"
  }
 },
 "nbformat": 4,
 "nbformat_minor": 1
}
