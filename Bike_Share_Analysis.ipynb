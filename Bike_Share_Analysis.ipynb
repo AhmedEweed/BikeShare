{
 "cells": [
  {
   "cell_type": "markdown",
   "metadata": {},
   "source": [
    "# 2016 US Bike Share Activity Snapshot\n",
    "\n",
    "## Table of Contents\n",
    "- [Introduction](#intro)\n",
    "- [Posing Questions](#pose_questions)\n",
    "- [Data Collection and Wrangling](#wrangling)\n",
    "  - [Condensing the Trip Data](#condensing)\n",
    "- [Exploratory Data Analysis](#eda)\n",
    "  - [Statistics](#statistics)\n",
    "  - [Visualizations](#visualizations)\n",
    "- [Performing Your Own Analysis](#eda_continued)\n",
    "- [Conclusions](#conclusions)\n",
    "\n",
    "<a id='intro'></a>\n",
    "## Introduction\n",
    "\n",
    "\n",
    "Over the past decade, bicycle-sharing systems have been growing in number and popularity in cities across the world. Bicycle-sharing systems allow users to rent bicycles for short trips, typically 30 minutes or less. Thanks to the rise in information technologies, it is easy for a user of the system to access a dock within the system to unlock or return bicycles. These technologies also provide a wealth of data that can be used to explore how these bike-sharing systems are used.\n",
    "\n",
    "In this project, you will perform an exploratory analysis on data provided by [Motivate](https://www.motivateco.com/), a bike-share system provider for many major cities in the United States. You will compare the system usage between three large cities: New York City, Chicago, and Washington, DC. You will also see if there are any differences within each system for those users that are registered, regular users and those users that are short-term, casual users."
   ]
  },
  {
   "cell_type": "markdown",
   "metadata": {},
   "source": [
    "<a id='pose_questions'></a>\n",
    "## Posing Questions\n",
    "\n",
    "Before looking at the bike sharing data, you should start by asking questions you might want to understand about the bike share data. Consider, for example, if you were working for Motivate. What kinds of information would you want to know about in order to make smarter business decisions? If you were a user of the bike-share service, what factors might influence how you would want to use the service?\n",
    "\n",
    "**Question 1**: Write at least two questions related to bike sharing that you think could be answered by data.\n",
    "\n",
    "\n",
    "**Answer**:\n",
    "\n",
    "            1- Which state has the largest number of users ?\n",
    "\n",
    "            2- What is the average trip duration in each state?\n",
    "            \n",
    "            3- Which day of the week is the heaviest in user traffic ? which user type is heavier?\n",
    "\n",
    "\n",
    "> **Tip**: If you double click on this cell, you will see the text change so that all of the formatting is removed. This allows you to edit this block of text. This block of text is written using [Markdown](http://daringfireball.net/projects/markdown/syntax), which is a way to format text using headers, links, italics, and many other options using a plain-text syntax. You will also use Markdown later in the Nanodegree program. Use **Shift** + **Enter** or **Shift** + **Return** to run the cell and show its rendered form."
   ]
  },
  {
   "cell_type": "markdown",
   "metadata": {},
   "source": [
    "<a id='wrangling'></a>\n",
    "## Data Collection and Wrangling\n",
    "\n",
    "Now it's time to collect and explore our data. In this project, we will focus on the record of individual trips taken in 2016 from our selected cities: New York City, Chicago, and Washington, DC. Each of these cities has a page where we can freely download the trip data.:\n",
    "\n",
    "- New York City (Citi Bike): [Link](https://www.citibikenyc.com/system-data)\n",
    "- Chicago (Divvy): [Link](https://www.divvybikes.com/system-data)\n",
    "- Washington, DC (Capital Bikeshare): [Link](https://www.capitalbikeshare.com/system-data)\n",
    "\n",
    "If you visit these pages, you will notice that each city has a different way of delivering its data. Chicago updates with new data twice a year, Washington DC is quarterly, and New York City is monthly. **However, you do not need to download the data yourself.** The data has already been collected for you in the `/data/` folder of the project files. While the original data for 2016 is spread among multiple files for each city, the files in the `/data/` folder collect all of the trip data for the year into one file per city. Some data wrangling of inconsistencies in timestamp format within each city has already been performed for you. In addition, a random 2% sample of the original data is taken to make the exploration more manageable. \n",
    "\n",
    "**Question 2**: However, there is still a lot of data for us to investigate, so it's a good idea to start off by looking at one entry from each of the cities we're going to analyze. Run the first code cell below to load some packages and functions that you'll be using in your analysis. Then, complete the second code cell to print out the first trip recorded from each of the cities (the second line of each data file).\n",
    "\n",
    "> **Tip**: You can run a code cell like you formatted Markdown cells above by clicking on the cell and using the keyboard shortcut **Shift** + **Enter** or **Shift** + **Return**. Alternatively, a code cell can be executed using the **Play** button in the toolbar after selecting it. While the cell is running, you will see an asterisk in the message to the left of the cell, i.e. `In [*]:`. The asterisk will change into a number to show that execution has completed, e.g. `In [1]`. If there is output, it will show up as `Out [1]:`, with an appropriate number to match the \"In\" number."
   ]
  },
  {
   "cell_type": "code",
   "execution_count": 6,
   "metadata": {},
   "outputs": [],
   "source": [
    "## import all necessary packages and functions.\n",
    "import csv  # read and write csv files\n",
    "from datetime import datetime # operations to parse dates\n",
    "from pprint import pprint # use to print data structures like dictionaries in\n",
    "                          # a nicer way than the base print function.\n",
    "import collections    \n",
    "    "
   ]
  },
  {
   "cell_type": "code",
   "execution_count": 7,
   "metadata": {
    "scrolled": false
   },
   "outputs": [
    {
     "name": "stdout",
     "output_type": "stream",
     "text": [
      "\n",
      "City: NYC\n",
      "OrderedDict([('tripduration', '839'),\n",
      "             ('starttime', '1/1/2016 00:09:55'),\n",
      "             ('stoptime', '1/1/2016 00:23:54'),\n",
      "             ('start station id', '532'),\n",
      "             ('start station name', 'S 5 Pl & S 4 St'),\n",
      "             ('start station latitude', '40.710451'),\n",
      "             ('start station longitude', '-73.960876'),\n",
      "             ('end station id', '401'),\n",
      "             ('end station name', 'Allen St & Rivington St'),\n",
      "             ('end station latitude', '40.72019576'),\n",
      "             ('end station longitude', '-73.98997825'),\n",
      "             ('bikeid', '17109'),\n",
      "             ('usertype', 'Customer'),\n",
      "             ('birth year', ''),\n",
      "             ('gender', '0')])\n",
      "\n",
      "City: Chicago\n",
      "OrderedDict([('trip_id', '9080545'),\n",
      "             ('starttime', '3/31/2016 23:30'),\n",
      "             ('stoptime', '3/31/2016 23:46'),\n",
      "             ('bikeid', '2295'),\n",
      "             ('tripduration', '926'),\n",
      "             ('from_station_id', '156'),\n",
      "             ('from_station_name', 'Clark St & Wellington Ave'),\n",
      "             ('to_station_id', '166'),\n",
      "             ('to_station_name', 'Ashland Ave & Wrightwood Ave'),\n",
      "             ('usertype', 'Subscriber'),\n",
      "             ('gender', 'Male'),\n",
      "             ('birthyear', '1990')])\n",
      "\n",
      "City: Washington\n",
      "OrderedDict([('Duration (ms)', '427387'),\n",
      "             ('Start date', '3/31/2016 22:57'),\n",
      "             ('End date', '3/31/2016 23:04'),\n",
      "             ('Start station number', '31602'),\n",
      "             ('Start station', 'Park Rd & Holmead Pl NW'),\n",
      "             ('End station number', '31207'),\n",
      "             ('End station', 'Georgia Ave and Fairmont St NW'),\n",
      "             ('Bike number', 'W20842'),\n",
      "             ('Member Type', 'Registered')])\n"
     ]
    }
   ],
   "source": [
    "def print_first_point(filename):\n",
    "    \"\"\"\n",
    "    This function prints and returns the first data point (second row) from\n",
    "    a csv file that includes a header row.\n",
    "    \"\"\"\n",
    "    # print city name for reference\n",
    "    city = filename.split('-')[0].split('/')[-1]\n",
    "    print('\\nCity: {}'.format(city))\n",
    "    \n",
    "    with open(filename, 'r') as f_in:\n",
    "        ## TODO: Use the csv library to set up a DictReader object. ##\n",
    "        ## see https://docs.python.org/3/library/csv.html           ##\n",
    "        trip_reader = csv.DictReader(f_in)\n",
    "        \n",
    "        ## TODO: Use a function on the DictReader object to read the     ##\n",
    "        ## first trip from the data file and store it in a variable.     ##\n",
    "        ## see https://docs.python.org/3/library/csv.html#reader-objects ##\n",
    "        \n",
    "        first_trip = next(trip_reader)\n",
    "        \n",
    "        ## TODO: Use the pprint library to print the first trip. ##\n",
    "        ## see https://docs.python.org/3/library/pprint.html     ##\n",
    "        pprint(first_trip)\n",
    "    # output city name and first trip for later testing\n",
    "    return (city, first_trip)\n",
    "\n",
    "# list of files for each city\n",
    "data_files = ['NYC-CitiBike-2016.csv',\n",
    "              'Chicago-Divvy-2016.csv',\n",
    "              'Washington-CapitalBikeshare-2016.csv',]\n",
    "\n",
    "# print the first trip from each file, store in dictionary\n",
    "example_trips = {}\n",
    "for data_file in data_files:\n",
    "    city, first_trip = print_first_point(data_file)\n",
    "    example_trips[city] = first_trip"
   ]
  },
  {
   "cell_type": "markdown",
   "metadata": {},
   "source": [
    "If everything has been filled out correctly, you should see below the printout of each city name (which has been parsed from the data file name) that the first trip has been parsed in the form of a dictionary. When you set up a `DictReader` object, the first row of the data file is normally interpreted as column names. Every other row in the data file will use those column names as keys, as a dictionary is generated for each row.\n",
    "\n",
    "This will be useful since we can refer to quantities by an easily-understandable label instead of just a numeric index. For example, if we have a trip stored in the variable `row`, then we would rather get the trip duration from `row['duration']` instead of `row[0]`.\n",
    "\n",
    "<a id='condensing'></a>\n",
    "### Condensing the Trip Data\n",
    "\n",
    "It should also be observable from the above printout that each city provides different information. Even where the information is the same, the column names and formats are sometimes different. To make things as simple as possible when we get to the actual exploration, we should trim and clean the data. Cleaning the data makes sure that the data formats across the cities are consistent, while trimming focuses only on the parts of the data we are most interested in to make the exploration easier to work with.\n",
    "\n",
    "You will generate new data files with five values of interest for each trip: trip duration, starting month, starting hour, day of the week, and user type. Each of these may require additional wrangling depending on the city:\n",
    "\n",
    "- **Duration**: This has been given to us in seconds (New York, Chicago) or milliseconds (Washington). A more natural unit of analysis will be if all the trip durations are given in terms of minutes.\n",
    "- **Month**, **Hour**, **Day of Week**: Ridership volume is likely to change based on the season, time of day, and whether it is a weekday or weekend. Use the start time of the trip to obtain these values. The New York City data includes the seconds in their timestamps, while Washington and Chicago do not. The [`datetime`](https://docs.python.org/3/library/datetime.html) package will be very useful here to make the needed conversions.\n",
    "- **User Type**: It is possible that users who are subscribed to a bike-share system will have different patterns of use compared to users who only have temporary passes. Washington divides its users into two types: 'Registered' for users with annual, monthly, and other longer-term subscriptions, and 'Casual', for users with 24-hour, 3-day, and other short-term passes. The New York and Chicago data uses 'Subscriber' and 'Customer' for these groups, respectively. For consistency, you will convert the Washington labels to match the other two.\n",
    "\n",
    "\n",
    "**Question 3a**: Complete the helper functions in the code cells below to address each of the cleaning tasks described above."
   ]
  },
  {
   "cell_type": "code",
   "execution_count": 8,
   "metadata": {},
   "outputs": [],
   "source": [
    "def duration_in_mins(datum, city):\n",
    "    \"\"\"\n",
    "    Takes as input a dictionary containing info about a single trip (datum) and\n",
    "    its origin city (city) and returns the trip duration in units of minutes.\n",
    "    \n",
    "    Remember that Washington is in terms of milliseconds while Chicago and NYC\n",
    "    are in terms of seconds. \n",
    "    \n",
    "    HINT: The csv module reads in all of the data as strings, including numeric\n",
    "    values. You will need a function to convert the strings into an appropriate\n",
    "    numeric type when making your transformations.\n",
    "    see https://docs.python.org/3/library/functions.html\n",
    "    \"\"\"\n",
    "    \n",
    "    # YOUR CODE HERE\n",
    "     \n",
    "    if city=='Washington':\n",
    "        duration=int(datum['Duration (ms)'])/60000\n",
    "    else:\n",
    "        duration=int(datum['tripduration'])/60\n",
    "    \n",
    "                     \n",
    "\n",
    "    return duration\n",
    "\n",
    "\n",
    "# Some tests to check that your code works. There should be no output if all of\n",
    "# the assertions pass. The `example_trips` dictionary was obtained from when\n",
    "# you printed the first trip from each of the original data files.\n",
    "tests = {'NYC': 13.9833,\n",
    "         'Chicago': 15.4333,\n",
    "         'Washington': 7.1231}\n",
    "\n",
    "for city in tests:\n",
    "    assert abs(duration_in_mins(example_trips[city], city) - tests[city]) < .001"
   ]
  },
  {
   "cell_type": "code",
   "execution_count": 9,
   "metadata": {},
   "outputs": [],
   "source": [
    "def time_of_trip(datum, city):\n",
    "    \"\"\"\n",
    "    Takes as input a dictionary containing info about a single trip (datum) and\n",
    "    its origin city (city) and returns the month, hour, and day of the week in\n",
    "    which the trip was made.\n",
    "    \n",
    "    Remember that NYC includes seconds, while Washington and Chicago do not.\n",
    "    \n",
    "    HINT: You should use the datetime module to parse the original date\n",
    "    strings into a format that is useful for extracting the desired information.\n",
    "    see https://docs.python.org/3/library/datetime.html#strftime-and-strptime-behavior\n",
    "    \"\"\"\n",
    "    \n",
    "    # YOUR CODE HERE\n",
    "    \n",
    "\n",
    "    if city=='Washington':\n",
    "        date=datetime.strptime(datum['Start date'],\"%m/%d/%Y %H:%M\")\n",
    "        month=date.month\n",
    "        hour=date.hour\n",
    "        day_of_week=date.strftime('%A')\n",
    "    elif city=='NYC':\n",
    "        date=datetime.strptime(datum['starttime'],\"%m/%d/%Y %H:%M:%S\")\n",
    "        month=date.month\n",
    "        hour=date.hour\n",
    "        day_of_week=date.strftime('%A')\n",
    "    else:\n",
    "        date=datetime.strptime(datum['starttime'],\"%m/%d/%Y %H:%M\")\n",
    "        month=date.month\n",
    "        hour=date.hour\n",
    "        day_of_week=date.strftime('%A')\n",
    "    return (month, hour, day_of_week)\n",
    "\n",
    "\n",
    "#Some tests to check that your code works. There should be no output if all of\n",
    "#the assertions pass. The `example_trips` dictionary was obtained from when\n",
    "#you printed the first trip from each of the original data files.\n",
    "tests = {'NYC': (1, 0, 'Friday'),\n",
    "         'Chicago': (3, 23, 'Thursday'),\n",
    "         'Washington': (3, 22, 'Thursday')}\n",
    "\n",
    "for city in tests:\n",
    "    assert time_of_trip(example_trips[city], city) == tests[city]"
   ]
  },
  {
   "cell_type": "code",
   "execution_count": 10,
   "metadata": {},
   "outputs": [],
   "source": [
    "def type_of_user(datum, city):\n",
    "    \"\"\"\n",
    "    Takes as input a dictionary containing info about a single trip (datum) and\n",
    "    its origin city (city) and returns the type of system user that made the\n",
    "    trip.\n",
    "    \n",
    "    Remember that Washington has different category names compared to Chicago\n",
    "    and NYC. \n",
    "    \"\"\"\n",
    "    \n",
    "    # YOUR CODE HERE\n",
    "    if city=='Washington':\n",
    "        user_type= datum['Member Type']\n",
    "    else:\n",
    "        user_type= datum['usertype']\n",
    "    return user_type\n",
    "\n",
    "\n",
    "# Some tests to check that your code works. There should be no output if all of\n",
    "# the assertions pass. The `example_trips` dictionary was obtained from when\n",
    "# you printed the first trip from each of the original data files.\n",
    "tests = {'NYC': 'Customer',\n",
    "         'Chicago': 'Subscriber',\n",
    "         'Washington': 'Registered'}\n",
    "\n",
    "for city in tests:\n",
    "    assert type_of_user(example_trips[city], city) == tests[city]"
   ]
  },
  {
   "cell_type": "markdown",
   "metadata": {},
   "source": [
    "**Question 3b**: Now, use the helper functions you wrote above to create a condensed data file for each city consisting only of the data fields indicated above. In the `/examples/` folder, you will see an example datafile from the [Bay Area Bike Share](http://www.bayareabikeshare.com/open-data) before and after conversion. Make sure that your output is formatted to be consistent with the example file."
   ]
  },
  {
   "cell_type": "code",
   "execution_count": 11,
   "metadata": {},
   "outputs": [],
   "source": [
    "def condense_data(in_file, out_file, city):\n",
    "    \"\"\"\n",
    "    This function takes full data from the specified input file\n",
    "    and writes the condensed data to a specified output file. The city\n",
    "    argument determines how the input file will be parsed.\n",
    "    \n",
    "    HINT: See the cell below to see how the arguments are structured!\n",
    "    \"\"\"\n",
    "    \n",
    "    with open(out_file, 'w') as f_out, open(in_file, 'r') as f_in:\n",
    "        # set up csv DictWriter object - writer requires column names for the\n",
    "        # first row as the \"fieldnames\" argument\n",
    "        out_colnames = ['duration', 'month', 'hour', 'day_of_week', 'user_type']        \n",
    "        trip_writer = csv.DictWriter(f_out, fieldnames = out_colnames)\n",
    "        trip_writer.writeheader()\n",
    "        \n",
    "        ## TODO: set up csv DictReader object ##\n",
    "        trip_reader = csv.DictReader(f_in)\n",
    "\n",
    "        # collect data from and process each row\n",
    "        for row in trip_reader:\n",
    "            # set up a dictionary to hold the values for the cleaned and trimmed\n",
    "            # data point\n",
    "            new_point = {}\n",
    "\n",
    "            ## TODO: use the helper functions to get the cleaned data from  ##\n",
    "            ## the original data dictionaries.                              ##\n",
    "            ## Note that the keys for the new_point dictionary should match ##\n",
    "            ## the column names set in the DictWriter object above.         ##\n",
    "            new_point['duration']=duration_in_mins(row,city)\n",
    "            new_point['month'],new_point['hour'],new_point['day_of_week']=time_of_trip(row,city)\n",
    "            new_point['user_type']= type_of_user(row,city)\n",
    "\n",
    "            ## TODO: write the processed information to the output file.     ##\n",
    "            ## see https://docs.python.org/3/library/csv.html#writer-objects ##\n",
    "            trip_writer.writerow(new_point)\n",
    "            "
   ]
  },
  {
   "cell_type": "code",
   "execution_count": 12,
   "metadata": {},
   "outputs": [
    {
     "name": "stdout",
     "output_type": "stream",
     "text": [
      "\n",
      "City: Washington\n",
      "OrderedDict([('duration', '7.123116666666666'),\n",
      "             ('month', '3'),\n",
      "             ('hour', '22'),\n",
      "             ('day_of_week', 'Thursday'),\n",
      "             ('user_type', 'Registered')])\n",
      "\n",
      "City: Chicago\n",
      "OrderedDict([('duration', '15.433333333333334'),\n",
      "             ('month', '3'),\n",
      "             ('hour', '23'),\n",
      "             ('day_of_week', 'Thursday'),\n",
      "             ('user_type', 'Subscriber')])\n",
      "\n",
      "City: NYC\n",
      "OrderedDict([('duration', '13.983333333333333'),\n",
      "             ('month', '1'),\n",
      "             ('hour', '0'),\n",
      "             ('day_of_week', 'Friday'),\n",
      "             ('user_type', 'Customer')])\n"
     ]
    }
   ],
   "source": [
    "# Run this cell to check your work\n",
    "city_info = {'Washington': {'in_file': 'Washington-CapitalBikeshare-2016.csv',\n",
    "                            'out_file': 'Washington-2016-Summary.csv'},\n",
    "             'Chicago': {'in_file': 'Chicago-Divvy-2016.csv',\n",
    "                         'out_file': 'Chicago-2016-Summary.csv'},\n",
    "             'NYC': {'in_file': 'NYC-CitiBike-2016.csv',\n",
    "                     'out_file': 'NYC-2016-Summary.csv'}}\n",
    "\n",
    "for city, filenames in city_info.items():\n",
    "    condense_data(filenames['in_file'], filenames['out_file'], city)\n",
    "    print_first_point(filenames['out_file'])"
   ]
  },
  {
   "cell_type": "markdown",
   "metadata": {},
   "source": [
    "> **Tip**: If you save a jupyter Notebook, the output from running code blocks will also be saved. However, the state of your workspace will be reset once a new session is started. Make sure that you run all of the necessary code blocks from your previous session to reestablish variables and functions before picking up where you last left off.\n",
    "\n",
    "<a id='eda'></a>\n",
    "## Exploratory Data Analysis\n",
    "\n",
    "Now that you have the data collected and wrangled, you're ready to start exploring the data. In this section you will write some code to compute descriptive statistics from the data. You will also be introduced to the `matplotlib` library to create some basic histograms of the data.\n",
    "\n",
    "<a id='statistics'></a>\n",
    "### Statistics\n",
    "\n",
    "First, let's compute some basic counts. The first cell below contains a function that uses the csv module to iterate through a provided data file, returning the number of trips made by subscribers and customers. The second cell runs this function on the example Bay Area data in the `/examples/` folder. Modify the cells to answer the question below.\n",
    "\n",
    "**Question 4a**: Which city has the highest number of trips? Which city has the highest proportion of trips made by subscribers? Which city has the highest proportion of trips made by short-term customers?\n",
    "\n",
    "**Answer**:\n",
    "\n",
    "\n",
    "    NYC has the highest number of trips,\n",
    "    Also NYC has the highest proportion of trips made by subscribers.\n",
    "    But, Chicago has the highest proportion of trips made by short-term customers "
   ]
  },
  {
   "cell_type": "code",
   "execution_count": 13,
   "metadata": {},
   "outputs": [],
   "source": [
    "def number_of_trips(filename):\n",
    "    \"\"\"\n",
    "    This function reads in a file with trip data and reports the number of\n",
    "    trips made by subscribers, customers, and total overall.\n",
    "    \"\"\"\n",
    "     # print city name for reference\n",
    "    city = filename.split('-')[0].split('/')[-1]\n",
    "    print('\\nCity: {}'.format(city))\n",
    "    with open(filename, 'r') as f_in:\n",
    "        # set up csv reader object\n",
    "        reader = csv.DictReader(f_in)\n",
    "        \n",
    "        # initialize count variables\n",
    "        subscriber = 0\n",
    "        customer = 0\n",
    "        total=0\n",
    "        # tally up ride types\n",
    "        for row in reader:\n",
    "            if (filename =='Washington-2016-Summary.csv' and row['user_type'] == 'Registered'):\n",
    "                subscriber += 1\n",
    "                total +=1\n",
    "            elif (filename =='Washington-2016-Summary.csv' and row['user_type'] == 'Casual'):\n",
    "                customer += 1\n",
    "                total += 1\n",
    "            elif (filename =='Chicago-2016-Summary.csv' and row['user_type'] == 'Subscriber'):\n",
    "                subscriber += 1\n",
    "                total += 1\n",
    "            elif (filename =='Chicago-2016-Summary.csv' and row['user_type'] == 'Customer'):\n",
    "                customer += 1\n",
    "                total += 1\n",
    "            elif (filename =='NYC-2016-Summary.csv' and row['user_type'] == 'Customer'):\n",
    "                customer += 1\n",
    "                total += 1\n",
    "            elif (filename =='NYC-2016-Summary.csv' and row['user_type'] == 'Subscriber'):\n",
    "                subscriber += 1\n",
    "                total += 1\n",
    "   \n",
    "        # return tallies as a tuple\n",
    "        return(customer,subscriber,total)"
   ]
  },
  {
   "cell_type": "code",
   "execution_count": 14,
   "metadata": {},
   "outputs": [
    {
     "name": "stdout",
     "output_type": "stream",
     "text": [
      "\n",
      "City: Washington\n",
      "(14573, 51753, 66326)\n",
      "\n",
      "City: Chicago\n",
      "(17149, 54982, 72131)\n",
      "\n",
      "City: NYC\n",
      "(30185, 245896, 276081)\n"
     ]
    }
   ],
   "source": [
    "## Modify this and the previous cell to answer Question 4a. Remember to run ##\n",
    "## the function on the cleaned data files you created from Question 3.      ##\n",
    "\n",
    "data_file = ['Washington-2016-Summary.csv',\n",
    "             'Chicago-2016-Summary.csv',\n",
    "             'NYC-2016-Summary.csv']\n",
    "for item in data_file:\n",
    "    print(number_of_trips(item))"
   ]
  },
  {
   "cell_type": "markdown",
   "metadata": {},
   "source": [
    "Now, you will write your own code to continue investigating properties of the data.\n",
    "\n",
    "**Question 4b**: Bike-share systems are designed for riders to take short trips. Most of the time, users are allowed to take trips of 30 minutes or less with no additional charges, with overage charges made for trips of longer than that duration. What is the average trip length for each city? What proportion of rides made in each city are longer than 30 minutes?\n",
    "\n",
    "**Answer**: \n",
    "            \n",
    "            Washington has average trip length of 18 minutes.    And 10,8% of rides are longer than 30 minutes\n",
    "            Chicago has average trip length of 16 minutes.       And 8.3%  of rides are longer than 30 minutes\n",
    "            NYC has average trip length of  15 minutes.          And 7.3%  of rides are longer than 30 minutes \n",
    "            \n",
    "         \n",
    "          "
   ]
  },
  {
   "cell_type": "code",
   "execution_count": 15,
   "metadata": {
    "scrolled": true
   },
   "outputs": [],
   "source": [
    "## Use this and additional cells to answer Question 4b.                 ##\n",
    "##                                                                      ##\n",
    "## HINT: The csv module reads in all of the data as strings, including  ##\n",
    "## numeric values. You will need a function to convert the strings      ##\n",
    "## into an appropriate numeric type before you aggregate data.          ##\n",
    "## TIP: For the Bay Area example, the average trip length is 14 minutes ##\n",
    "## and 3.5% of trips are longer than 30 minutes.                        ##\n",
    "def trip_duration_avg(filename):\n",
    "    \"\"\"\n",
    "    this function takes a file and computes the average trip duration of it in minutes \n",
    "    filename: the file that contains cleaned data\n",
    "    \"\"\"\n",
    "     # print city name for reference\n",
    "    city = filename.split('-')[0].split('/')[-1]\n",
    "    print('\\nCity: {}'.format(city))\n",
    "    with open(filename) as f_in:\n",
    "        #setting up the reader object to read each row in the file\n",
    "        reader = csv.DictReader(f_in)\n",
    "        sum_of_durations =0\n",
    "        trips_over_30_mins=0\n",
    "        row_count=0\n",
    "        \n",
    "        for row in reader:\n",
    "            if float(row['duration'])> 0:\n",
    "                row_count+=1\n",
    "                sum_of_durations += float(row['duration'])\n",
    "                \n",
    "            if float(row['duration']) > 30:\n",
    "                trips_over_30_mins+=1\n",
    "                \n",
    "    average= int(sum_of_durations/row_count)   \n",
    "    percentage=(trips_over_30_mins/row_count)*100\n",
    "    return average,str(percentage)+\" %\"    \n",
    "        \n",
    "    \n",
    "\n",
    "\n",
    "\n",
    "\n",
    "\n",
    "\n"
   ]
  },
  {
   "cell_type": "code",
   "execution_count": 16,
   "metadata": {
    "scrolled": true
   },
   "outputs": [
    {
     "name": "stdout",
     "output_type": "stream",
     "text": [
      "\n",
      "City: Washington\n",
      "(18, '10.83888671109369 %')\n",
      "\n",
      "City: Chicago\n",
      "(16, '8.332062497400562 %')\n",
      "\n",
      "City: NYC\n",
      "(15, '7.3024371563378345 %')\n"
     ]
    }
   ],
   "source": [
    "data_file=['Washington-2016-Summary.csv',\n",
    "            'Chicago-2016-Summary.csv',\n",
    "             'NYC-2016-Summary.csv']\n",
    "for item in data_file:\n",
    "    print(trip_duration_avg(item))"
   ]
  },
  {
   "cell_type": "markdown",
   "metadata": {},
   "source": [
    "**Question 4c**: Dig deeper into the question of trip duration based on ridership. Choose one city. Within that city, which type of user takes longer rides on average: Subscribers or Customers?\n",
    "\n",
    "**Answer**:\n",
    "           \n",
    "           I Chose NYC, where Customers (32.98 minutes) take longer rides than Subscribers (13.7 minutes) on average.\n",
    "            "
   ]
  },
  {
   "cell_type": "code",
   "execution_count": 17,
   "metadata": {},
   "outputs": [],
   "source": [
    "def trip_average_based_on_user_type(filename):\n",
    "    \"\"\"\n",
    "    this function takes a file (filename) and calculates the average trip duration\n",
    "    of each type of user in a specific city\n",
    "    \"\"\"\n",
    "    customer_count=0\n",
    "    subscriber_count=0\n",
    "    customer_trip_duration=0\n",
    "    subscriber_trip_duration=0\n",
    "    with open(filename) as f_in:\n",
    "        reader= csv.DictReader(f_in)\n",
    "        for row in reader:\n",
    "            if row['user_type']=='Customer':\n",
    "                customer_count += 1\n",
    "                customer_trip_duration+=float(row['duration'])\n",
    "            else:\n",
    "                subscriber_count += 1\n",
    "                subscriber_trip_duration+= float(row['duration'])\n",
    "                \n",
    "        average_customers=customer_trip_duration/customer_count\n",
    "        average_subscribers=subscriber_trip_duration/subscriber_count\n",
    "        \n",
    "    return average_customers,average_subscribers    \n",
    "\n",
    "\n"
   ]
  },
  {
   "cell_type": "code",
   "execution_count": 18,
   "metadata": {},
   "outputs": [
    {
     "name": "stdout",
     "output_type": "stream",
     "text": [
      "(32.982004306775025, 13.711087074350004)\n"
     ]
    }
   ],
   "source": [
    "#data_file='./examples/BayArea-Y3-Summary.csv'\n",
    "data_file='NYC-2016-Summary.csv'\n",
    "\n",
    "print(trip_average_based_on_user_type(data_file))"
   ]
  },
  {
   "cell_type": "markdown",
   "metadata": {},
   "source": [
    "<a id='visualizations'></a>\n",
    "### Visualizations\n",
    "\n",
    "The last set of values that you computed should have pulled up an interesting result. While the mean trip time for Subscribers is well under 30 minutes, the mean trip time for Customers is actually _above_ 30 minutes! It will be interesting for us to look at how the trip times are distributed. In order to do this, a new library will be introduced here, `matplotlib`. Run the cell below to load the library and to generate an example plot."
   ]
  },
  {
   "cell_type": "code",
   "execution_count": 19,
   "metadata": {},
   "outputs": [
    {
     "data": {
      "image/png": "[encoded data removed]",
      "text/plain": [
       "<matplotlib.figure.Figure at 0x7fb1b8c9e5f8>"
      ]
     },
     "metadata": {},
     "output_type": "display_data"
    }
   ],
   "source": [
    "# load library\n",
    "import matplotlib.pyplot as plt\n",
    "\n",
    "# this is a 'magic word' that allows for plots to be displayed\n",
    "# inline with the notebook. If you want to know more, see:\n",
    "# http://ipython.readthedocs.io/en/stable/interactive/magics.html\n",
    "%matplotlib inline \n",
    "\n",
    "# example histogram, data taken from bay area sample\n",
    "data = [ 7.65,  8.92,  7.42,  5.50, 16.17,  4.20,  8.98,  9.62, 11.48, 14.33,\n",
    "        19.02, 21.53,  3.90,  7.97,  2.62,  2.67,  3.08, 14.40, 12.90,  7.83,\n",
    "        25.12,  8.30,  4.93, 12.43, 10.60,  6.17, 10.88,  4.78, 15.15,  3.53,\n",
    "         9.43, 13.32, 11.72,  9.85,  5.22, 15.10,  3.95,  3.17,  8.78,  1.88,\n",
    "         4.55, 12.68, 12.38,  9.78,  7.63,  6.45, 17.38, 11.90, 11.52,  8.63,]\n",
    "plt.hist(data)\n",
    "plt.title('Distribution of Trip Durations')\n",
    "plt.xlabel('Duration (m)')\n",
    "plt.show()"
   ]
  },
  {
   "cell_type": "markdown",
   "metadata": {},
   "source": [
    "In the above cell, we collected fifty trip times in a list, and passed this list as the first argument to the `.hist()` function. This function performs the computations and creates plotting objects for generating a histogram, but the plot is actually not rendered until the `.show()` function is executed. The `.title()` and `.xlabel()` functions provide some labeling for plot context.\n",
    "\n",
    "You will now use these functions to create a histogram of the trip times for the city you selected in question 4c. Don't separate the Subscribers and Customers for now: just collect all of the trip times and plot them."
   ]
  },
  {
   "cell_type": "code",
   "execution_count": 20,
   "metadata": {},
   "outputs": [],
   "source": [
    "## Use this and additional cells to collect all of the trip times as a list ##\n",
    "## and then use pyplot functions to generate a histogram of trip times.     ##\n",
    "def ploting_durations(filename):\n",
    "    \"\"\"\n",
    "    this function plots the trip durations in the city \n",
    "    filename: the data file that contains our desired data\n",
    "    \"\"\"\n",
    "    data_list=[]\n",
    "    with open(filename) as f_in:\n",
    "        reader=csv.DictReader(f_in)\n",
    "        for row in reader:\n",
    "            if float(row['duration']) > 0:\n",
    "                data_list.append(float(row['duration']))    \n",
    "                \n",
    "    return data_list \n",
    "        "
   ]
  },
  {
   "cell_type": "code",
   "execution_count": 21,
   "metadata": {
    "scrolled": false
   },
   "outputs": [
    {
     "data": {
      "image/png": "[encoded data removed]",
      "text/plain": [
       "<matplotlib.figure.Figure at 0x7fb1a13d2a20>"
      ]
     },
     "metadata": {},
     "output_type": "display_data"
    }
   ],
   "source": [
    "import matplotlib.pyplot as plt\n",
    "%matplotlib inline\n",
    "\n",
    "data_file='NYC-2016-Summary.csv'\n",
    "all_data=ploting_durations(data_file)\n",
    "\n",
    "plt.hist(all_data,[10,20,30,40,50,60,70,75],[1,39000])\n",
    "plt.title('Distribution of All Trip Durations in NYC')\n",
    "plt.xlabel('Duration (m)')\n",
    "plt.show()\n"
   ]
  },
  {
   "cell_type": "markdown",
   "metadata": {},
   "source": [
    "If you followed the use of the `.hist()` and `.show()` functions exactly like in the example, you're probably looking at a plot that's completely unexpected. The plot consists of one extremely tall bar on the left, maybe a very short second bar, and a whole lot of empty space in the center and right. Take a look at the duration values on the x-axis. This suggests that there are some highly infrequent outliers in the data. Instead of reprocessing the data, you will use additional parameters with the `.hist()` function to limit the range of data that is plotted. Documentation for the function can be found [[here]](https://matplotlib.org/devdocs/api/_as_gen/matplotlib.pyplot.hist.html#matplotlib.pyplot.hist).\n",
    "\n",
    "**Question 5**: Use the parameters of the `.hist()` function to plot the distribution of trip times for the Subscribers in your selected city. Do the same thing for only the Customers. Add limits to the plots so that only trips of duration less than 75 minutes are plotted. As a bonus, set the plots up so that bars are in five-minute wide intervals. For each group, where is the peak of each distribution? How would you describe the shape of each distribution?\n",
    "\n",
    "**Answer**: \n",
    "\n",
    "            For Customers the peak point is almost flat(no clear peak, just two almost equal bars)\n",
    "            ranging from 5 to 25 and from 25 to 35 minutes \n",
    "            it is skewed right or has positive skewness\n",
    "            and i can't specify a peak in the figure so it could be unimodal around 5 to 35 minutes.\n",
    "            \n",
    "            \n",
    "            For Suscribers the peak point is nearly from 5 to 15 minutes.\n",
    "            also it is skewed right or has positive skewness\n",
    "            and clearly is unimodal around 5 to15 minutes as it has one clear peak."
   ]
  },
  {
   "cell_type": "code",
   "execution_count": 22,
   "metadata": {},
   "outputs": [],
   "source": [
    "## Use this and additional cells to answer Question 5. ##\n",
    "## Use this and additional cells to collect all of the trip times as a list ##\n",
    "## and then use pyplot functions to generate a histogram of trip times.     ##\n",
    "def ploting_Customer_subscriber_durations(filename):\n",
    "    \"\"\"\n",
    "    this function plots the trip durations in the city for Customers and Subscribers \n",
    "    filename: the data file that contains our desired data\n",
    "    \"\"\"\n",
    "    Customers_list=[]\n",
    "    Subscribers_list=[]\n",
    "    with open(filename) as f_in:\n",
    "        reader=csv.DictReader(f_in)\n",
    "        for row in reader:\n",
    "            if row['user_type']=='Subscriber' and float(row['duration']) > 0:\n",
    "                Subscribers_list.append(float(row['duration']))\n",
    "            elif row['user_type']=='Customer' and float(row['duration']) > 0:\n",
    "                Customers_list.append(float(row['duration']))     \n",
    "                \n",
    "    return(Subscribers_list,Customers_list)           \n",
    "     \n"
   ]
  },
  {
   "cell_type": "code",
   "execution_count": 23,
   "metadata": {},
   "outputs": [
    {
     "data": {
      "image/png": "[encoded data removed]",
      "text/plain": [
       "<matplotlib.figure.Figure at 0x7fb1a3147f28>"
      ]
     },
     "metadata": {},
     "output_type": "display_data"
    },
    {
     "data": {
      "image/png": "[encoded data removed]",
      "text/plain": [
       "<matplotlib.figure.Figure at 0x7fb194a85cc0>"
      ]
     },
     "metadata": {},
     "output_type": "display_data"
    }
   ],
   "source": [
    "import matplotlib.pyplot as plt\n",
    "%matplotlib inline\n",
    "\n",
    "data_file='NYC-2016-Summary.csv'\n",
    "Subscribers_data, Customer_data =ploting_Customer_subscriber_durations(data_file)\n",
    "\n",
    "\n",
    "plt.hist(Subscribers_data,[10,20,30,40,50,60,70,75],[1,39395])\n",
    "plt.title('Distribution of Subscribers Trip Durations in NYC')\n",
    "plt.xlabel('Duration (m)')\n",
    "plt.show()\n",
    "plt.hist(Customer_data,[10,20,30,40,50,60,70,75],[1,12099])\n",
    "plt.title('Distribution of Customers Trip Durations in NYC')\n",
    "plt.xlabel('Duration (m)')\n",
    "plt.show()\n",
    "\n"
   ]
  },
  {
   "cell_type": "markdown",
   "metadata": {
    "collapsed": true
   },
   "source": [
    "<a id='eda_continued'></a>\n",
    "## Performing Your Own Analysis\n",
    "\n",
    "So far, you've performed an initial exploration into the data available. You have compared the relative volume of trips made between three U.S. cities and the ratio of trips made by Subscribers and Customers. For one of these cities, you have investigated differences between Subscribers and Customers in terms of how long a typical trip lasts. Now it is your turn to continue the exploration in a direction that you choose. Here are a few suggestions for questions to explore:\n",
    "\n",
    "- How does ridership differ by month or season? Which month / season has the highest ridership? Does the ratio of Subscriber trips to Customer trips change depending on the month or season?\n",
    "- Is the pattern of ridership different on the weekends versus weekdays? On what days are Subscribers most likely to use the system? What about Customers? Does the average duration of rides change depending on the day of the week?\n",
    "- During what time of day is the system used the most? Is there a difference in usage patterns for Subscribers and Customers?\n",
    "\n",
    "If any of the questions you posed in your answer to question 1 align with the bullet points above, this is a good opportunity to investigate one of them. As part of your investigation, you will need to create a visualization. If you want to create something other than a histogram, then you might want to consult the [Pyplot documentation](https://matplotlib.org/devdocs/api/pyplot_summary.html). In particular, if you are plotting values across a categorical variable (e.g. city, user type), a bar chart will be useful. The [documentation page for `.bar()`](https://matplotlib.org/devdocs/api/_as_gen/matplotlib.pyplot.bar.html#matplotlib.pyplot.bar) includes links at the bottom of the page with examples for you to build off of for your own use.\n",
    "\n",
    "**Question 6**: Continue the investigation by exploring another question that could be answered by the data available. Document the question you want to explore below. Your investigation should involve at least two variables and should compare at least two groups. You should also use at least one visualization as part of your explorations.\n",
    "\n",
    "**Answer**: \n",
    "\n",
    "## Posing Questions\n",
    "  \n",
    "    Is the pattern of ridership different on the weekends versus weekdays?\n",
    "    On what days are Subscribers most likely to use the system? What about Customers?\n",
    "    Does the average duration of rides change depending on the day of the week?\n",
    "    \n",
    "    \n",
    "            \n"
   ]
  },
  {
   "cell_type": "markdown",
   "metadata": {},
   "source": [
    "## Data Collection And Wrangling"
   ]
  },
  {
   "cell_type": "code",
   "execution_count": 24,
   "metadata": {},
   "outputs": [
    {
     "name": "stdout",
     "output_type": "stream",
     "text": [
      "\n",
      "City: NYC\n",
      "OrderedDict([('tripduration', '839'),\n",
      "             ('starttime', '1/1/2016 00:09:55'),\n",
      "             ('stoptime', '1/1/2016 00:23:54'),\n",
      "             ('start station id', '532'),\n",
      "             ('start station name', 'S 5 Pl & S 4 St'),\n",
      "             ('start station latitude', '40.710451'),\n",
      "             ('start station longitude', '-73.960876'),\n",
      "             ('end station id', '401'),\n",
      "             ('end station name', 'Allen St & Rivington St'),\n",
      "             ('end station latitude', '40.72019576'),\n",
      "             ('end station longitude', '-73.98997825'),\n",
      "             ('bikeid', '17109'),\n",
      "             ('usertype', 'Customer'),\n",
      "             ('birth year', ''),\n",
      "             ('gender', '0')])\n",
      "\n",
      "City: Chicago\n",
      "OrderedDict([('trip_id', '9080545'),\n",
      "             ('starttime', '3/31/2016 23:30'),\n",
      "             ('stoptime', '3/31/2016 23:46'),\n",
      "             ('bikeid', '2295'),\n",
      "             ('tripduration', '926'),\n",
      "             ('from_station_id', '156'),\n",
      "             ('from_station_name', 'Clark St & Wellington Ave'),\n",
      "             ('to_station_id', '166'),\n",
      "             ('to_station_name', 'Ashland Ave & Wrightwood Ave'),\n",
      "             ('usertype', 'Subscriber'),\n",
      "             ('gender', 'Male'),\n",
      "             ('birthyear', '1990')])\n",
      "\n",
      "City: Washington\n",
      "OrderedDict([('Duration (ms)', '427387'),\n",
      "             ('Start date', '3/31/2016 22:57'),\n",
      "             ('End date', '3/31/2016 23:04'),\n",
      "             ('Start station number', '31602'),\n",
      "             ('Start station', 'Park Rd & Holmead Pl NW'),\n",
      "             ('End station number', '31207'),\n",
      "             ('End station', 'Georgia Ave and Fairmont St NW'),\n",
      "             ('Bike number', 'W20842'),\n",
      "             ('Member Type', 'Registered')])\n"
     ]
    }
   ],
   "source": [
    "## Use this and additional cells to continue to explore the dataset. ##\n",
    "## Once you have performed your exploration, document your findings  ##\n",
    "## in the Markdown cell above.                                       ##\n",
    "\n",
    "def print_first_record(filename):\n",
    "    \"\"\"\n",
    "    This function prints and returns the first data record after the header from\n",
    "    a csv file that includes a header row.\n",
    "    \"\"\"\n",
    "    # print city name for reference\n",
    "    city = filename.split('-')[0].split('/')[-1]\n",
    "    print('\\nCity: {}'.format(city))\n",
    "    \n",
    "    with open(filename, 'r') as f_in:\n",
    "       # setting up a dict reader object\n",
    "        trip_reader = csv.DictReader(f_in)\n",
    "        # extracting the first data row in th file\n",
    "        first_trip = next(trip_reader)\n",
    "        \n",
    "        # printing the first trip\n",
    "        pprint(first_trip)\n",
    "    # output city name and first trip \n",
    "    return (city, first_trip)\n",
    "\n",
    "# list of files for each city\n",
    "data_files = ['NYC-CitiBike-2016.csv',\n",
    "              'Chicago-Divvy-2016.csv',\n",
    "              'Washington-CapitalBikeshare-2016.csv',]\n",
    "\n",
    "# print the first trip from each file, store in dictionary\n",
    "example_trips = {}\n",
    "for data_file in data_files:\n",
    "    city, first_trip = print_first_point(data_file)\n",
    "    example_trips[city] = first_trip"
   ]
  },
  {
   "cell_type": "markdown",
   "metadata": {},
   "source": [
    "## Condinsing The Trip Data \n",
    "\n",
    "-  **Type of user**: to help me know how many Subscribers or Registered clients and short-term Customers are there.\n",
    "-  **Day of week**: to find out are the week day or the week end heavier on rides and from what kind of users.\n",
    "-  **Duration**: to find out does the duration of the trip changes depending on the day of the week.\n",
    "             "
   ]
  },
  {
   "cell_type": "code",
   "execution_count": 25,
   "metadata": {},
   "outputs": [],
   "source": [
    "def duration_in_minutes(datum, city):\n",
    "    \"\"\"\n",
    "    Takes as input a dictionary containing info about a single trip (datum) and\n",
    "    its origin city (city) and returns the trip duration in units of minutes.\n",
    "    \n",
    "     time in Washington is in terms of milliseconds while Chicago and NYC\n",
    "    are in terms of seconds.\n",
    "    \"\"\"\n",
    "     \n",
    "    if city=='Washington':\n",
    "        duration=int(datum['Duration (ms)'])/60000\n",
    "    else:\n",
    "        duration=int(datum['tripduration'])/60\n",
    "    \n",
    "    return duration\n"
   ]
  },
  {
   "cell_type": "code",
   "execution_count": 26,
   "metadata": {},
   "outputs": [],
   "source": [
    "def week_day(datum, city):\n",
    "    \"\"\"\n",
    "    Takes as input a dictionary containing info about a single trip (datum) and\n",
    "    its origin city (city) and returns the weekday in\n",
    "    which the trip was made \n",
    "    \"\"\"\n",
    "    \n",
    "    if city=='Washington':\n",
    "        date=datetime.strptime(datum['Start date'],\"%m/%d/%Y %H:%M\")\n",
    "        day_of_week=date.strftime('%A')\n",
    "    elif city=='NYC':\n",
    "        date=datetime.strptime(datum['starttime'],\"%m/%d/%Y %H:%M:%S\")\n",
    "        day_of_week=date.strftime('%A')\n",
    "    else:\n",
    "        date=datetime.strptime(datum['starttime'],\"%m/%d/%Y %H:%M\")\n",
    "        day_of_week=date.strftime('%A')\n",
    "        \n",
    "    return day_of_week\n"
   ]
  },
  {
   "cell_type": "code",
   "execution_count": 27,
   "metadata": {},
   "outputs": [],
   "source": [
    "def user_type(datum, city):\n",
    "    \"\"\"\n",
    "    Takes as input a dictionary containing info about a single trip (datum) and\n",
    "    its origin city (city) and returns the type of system user that made the\n",
    "    trip \n",
    "    \"\"\"\n",
    "    \n",
    "    if city=='Washington':\n",
    "        user_type= datum['Member Type']\n",
    "    else:\n",
    "        user_type= datum['usertype']\n",
    "        \n",
    "    return user_type\n"
   ]
  },
  {
   "cell_type": "code",
   "execution_count": 28,
   "metadata": {},
   "outputs": [],
   "source": [
    "def clean_record_data(in_file, out_file, city):\n",
    "    \"\"\"\n",
    "    This function takes full data from the specified input file\n",
    "    and writes the cleaned processed data to a specified output file. The city\n",
    "    argument determines how the input file will be parsed.\n",
    "    \"\"\"\n",
    "    \n",
    "    with open(out_file, 'w') as f_out, open(in_file, 'r') as f_in:\n",
    "        # setting up a dict writer object\n",
    "        out_colnames = ['duration', 'day_of_week', 'user_type']        \n",
    "        trip_writer = csv.DictWriter(f_out, fieldnames = out_colnames)\n",
    "        trip_writer.writeheader()\n",
    "        \n",
    "        # setting up a dict reader object\n",
    "        trip_reader = csv.DictReader(f_in)\n",
    "\n",
    "        # collecting and processing data from each row\n",
    "        for row in trip_reader:\n",
    "            # setting up a dictionary to hold the values for the cleaned and trimmed\n",
    "            # data point\n",
    "            new_point = {}\n",
    "            # condinsing data to fit my need\n",
    "            new_point['duration']=duration_in_minutes(row,city)\n",
    "            new_point['day_of_week']=week_day(row,city)\n",
    "            new_point['user_type']= user_type(row,city)\n",
    "            # writing the condinsed data to the new files\n",
    "            trip_writer.writerow(new_point)"
   ]
  },
  {
   "cell_type": "code",
   "execution_count": 29,
   "metadata": {},
   "outputs": [
    {
     "name": "stdout",
     "output_type": "stream",
     "text": [
      "\n",
      "City: Washington\n",
      "OrderedDict([('duration', '7.123116666666666'),\n",
      "             ('day_of_week', 'Thursday'),\n",
      "             ('user_type', 'Registered')])\n",
      "\n",
      "City: Chicago\n",
      "OrderedDict([('duration', '15.433333333333334'),\n",
      "             ('day_of_week', 'Thursday'),\n",
      "             ('user_type', 'Subscriber')])\n",
      "\n",
      "City: NYC\n",
      "OrderedDict([('duration', '13.983333333333333'),\n",
      "             ('day_of_week', 'Friday'),\n",
      "             ('user_type', 'Customer')])\n"
     ]
    }
   ],
   "source": [
    "# Checking the function\n",
    "city_info = {'Washington': {'in_file': 'Washington-CapitalBikeshare-2016.csv',\n",
    "                            'out_file': 'Washington-2016-Summary2.csv'},\n",
    "             'Chicago': {'in_file': 'Chicago-Divvy-2016.csv',\n",
    "                         'out_file': 'Chicago-2016-Summary2.csv'},\n",
    "             'NYC': {'in_file': 'NYC-CitiBike-2016.csv',\n",
    "                     'out_file': 'NYC-2016-Summary2.csv'}}\n",
    "\n",
    "for city, filenames in city_info.items():\n",
    "    clean_record_data(filenames['in_file'], filenames['out_file'], city)\n",
    "    print_first_point(filenames['out_file'])"
   ]
  },
  {
   "cell_type": "markdown",
   "metadata": {},
   "source": [
    "## Exploratory Data Analysis\n",
    "\n",
    "\n",
    "# Statistics:"
   ]
  },
  {
   "cell_type": "code",
   "execution_count": 30,
   "metadata": {},
   "outputs": [],
   "source": [
    "def number_of_trips_per_weekday(filename):\n",
    "    \"\"\"\n",
    "    This function reads in a file with trip data and reports the number of total\n",
    "    trips made on each day of the week \n",
    "    \"\"\"\n",
    "     # print city name for reference\n",
    "    city = filename.split('-')[0].split('/')[-1]\n",
    "    print('\\nCity: {}'.format(city))\n",
    "    with open(filename, 'r') as f_in:\n",
    "        # set up csv reader object\n",
    "        reader = csv.DictReader(f_in)\n",
    "        \n",
    "        # initialize count variables\n",
    "        Weekdays={}\n",
    "        sat_count=0\n",
    "        sun_count=0\n",
    "        mon_count=0\n",
    "        tues_count=0\n",
    "        wed_count=0\n",
    "        thur_count=0\n",
    "        fri_count=0\n",
    "        # tally up ride types\n",
    "        for row in reader:\n",
    "            if row['day_of_week'] == 'Saturday':\n",
    "                sat_count+=1\n",
    "                Weekdays[row['day_of_week']]= sat_count\n",
    "            elif row['day_of_week'] == 'Sunday':\n",
    "                sun_count+=1\n",
    "                Weekdays[row['day_of_week']]= sun_count\n",
    "            elif row['day_of_week'] == 'Monday':\n",
    "                mon_count+=1\n",
    "                Weekdays[row['day_of_week']]= mon_count\n",
    "            elif row['day_of_week'] == 'Tuesday':\n",
    "                tues_count+=1 \n",
    "                Weekdays[row['day_of_week']]= tues_count\n",
    "            elif row['day_of_week'] == 'Wednesday':\n",
    "                wed_count+=1 \n",
    "                Weekdays[row['day_of_week']]= wed_count\n",
    "            elif row['day_of_week'] == 'Thursday':\n",
    "                thur_count+=1 \n",
    "                Weekdays[row['day_of_week']]= thur_count\n",
    "            elif row['day_of_week'] == 'Friday':\n",
    "                fri_count+=1    \n",
    "                Weekdays[row['day_of_week']]= fri_count\n",
    "   \n",
    "\n",
    "        # return tallies as a tuple\n",
    "        return Weekdays"
   ]
  },
  {
   "cell_type": "code",
   "execution_count": 31,
   "metadata": {
    "scrolled": false
   },
   "outputs": [
    {
     "name": "stdout",
     "output_type": "stream",
     "text": [
      "\n",
      "City: Washington\n",
      "{'Thursday': 9984, 'Wednesday': 10103, 'Tuesday': 9748, 'Monday': 9394, 'Sunday': 8227, 'Saturday': 8900, 'Friday': 9970}\n",
      "\n",
      "City: Chicago\n",
      "{'Thursday': 10008, 'Wednesday': 9604, 'Tuesday': 10911, 'Monday': 11286, 'Sunday': 9654, 'Saturday': 9927, 'Friday': 10741}\n",
      "\n",
      "City: NYC\n",
      "{'Friday': 41389, 'Saturday': 33353, 'Sunday': 31352, 'Monday': 39340, 'Tuesday': 42405, 'Wednesday': 44629, 'Thursday': 44330}\n"
     ]
    }
   ],
   "source": [
    "data_file = ['Washington-2016-Summary2.csv',\n",
    "             'Chicago-2016-Summary2.csv',\n",
    "             'NYC-2016-Summary2.csv']\n",
    "for item in data_file:\n",
    "    print(number_of_trips_per_weekday(item))"
   ]
  },
  {
   "cell_type": "code",
   "execution_count": 32,
   "metadata": {},
   "outputs": [],
   "source": [
    "def trip_average_based_on_weekday(filename):\n",
    "    \"\"\"\n",
    "    this function takes a file (filename) and calculates the average trip duration on each day of the week\n",
    "    \"\"\"\n",
    "    \n",
    "    Weekdays={}\n",
    "    sat_count=0\n",
    "    sat_dur=0\n",
    "    sun_count=0\n",
    "    sun_dur=0\n",
    "    mon_count=0\n",
    "    mon_dur=0\n",
    "    tues_count=0\n",
    "    tues_dur=0\n",
    "    wed_count=0\n",
    "    wed_dur=0\n",
    "    thur_count=0\n",
    "    thur_dur=0\n",
    "    fri_count=0\n",
    "    fri_dur=0\n",
    "    with open(filename) as f_in:\n",
    "        reader= csv.DictReader(f_in)\n",
    "        for row in reader:\n",
    "            if row['day_of_week'] == 'Saturday':\n",
    "                sat_count+=1\n",
    "                sat_dur+= float(row['duration'])\n",
    "                Weekdays[row['day_of_week']]= sat_dur/sat_count\n",
    "            elif row['day_of_week'] == 'Sunday':\n",
    "                sun_count+=1\n",
    "                sun_dur+= float(row['duration'])\n",
    "                Weekdays[row['day_of_week']]= sun_dur/sun_count\n",
    "            elif row['day_of_week'] == 'Monday':\n",
    "                mon_count+=1\n",
    "                mon_dur+= float(row['duration'])\n",
    "                Weekdays[row['day_of_week']]= mon_dur/mon_count\n",
    "            elif row['day_of_week'] == 'Tuesday':\n",
    "                tues_count+=1\n",
    "                tues_dur+= float(row['duration'])\n",
    "                Weekdays[row['day_of_week']]= tues_dur/tues_count\n",
    "            elif row['day_of_week'] == 'Wednesday':\n",
    "                wed_count+=1\n",
    "                wed_dur+= float(row['duration'])\n",
    "                Weekdays[row['day_of_week']]= wed_dur/wed_count\n",
    "            elif row['day_of_week'] == 'Thursday':\n",
    "                thur_count+=1\n",
    "                thur_dur+= float(row['duration'])\n",
    "                Weekdays[row['day_of_week']]= thur_dur/thur_count\n",
    "            elif row['day_of_week'] == 'Friday':\n",
    "                fri_count+=1    \n",
    "                fri_dur+= float(row['duration'])\n",
    "                Weekdays[row['day_of_week']]= fri_dur/fri_count\n",
    "        \n",
    "        \n",
    "    return Weekdays"
   ]
  },
  {
   "cell_type": "code",
   "execution_count": 33,
   "metadata": {},
   "outputs": [
    {
     "name": "stdout",
     "output_type": "stream",
     "text": [
      "{'Thursday': 16.685823671207284, 'Wednesday': 16.294892746379023, 'Tuesday': 16.69108387361512, 'Monday': 17.5637550635157, 'Sunday': 23.972442542846792, 'Saturday': 24.81150271161071, 'Friday': 17.931890384486792}\n",
      "{'Thursday': 13.933764654942733, 'Wednesday': 14.462123420796864, 'Tuesday': 14.297109950203156, 'Monday': 16.115381889066008, 'Sunday': 21.381674262827143, 'Saturday': 20.630974446794895, 'Friday': 15.576898488657195}\n",
      "{'Friday': 16.023964096740567, 'Saturday': 18.795957884848054, 'Sunday': 18.789433954239893, 'Monday': 15.07595238095228, 'Tuesday': 14.297031403529449, 'Wednesday': 14.636322047696872, 'Thursday': 14.552951725693545}\n"
     ]
    }
   ],
   "source": [
    "data_file=['Washington-2016-Summary2.csv',\n",
    "            'Chicago-2016-Summary2.csv',\n",
    "             'NYC-2016-Summary2.csv']\n",
    "for item in data_file:\n",
    "    print(trip_average_based_on_weekday(item))"
   ]
  },
  {
   "cell_type": "markdown",
   "metadata": {},
   "source": [
    "## Visualizations"
   ]
  },
  {
   "cell_type": "code",
   "execution_count": 34,
   "metadata": {},
   "outputs": [],
   "source": [
    "def ploting_average(filename):\n",
    "    \"\"\"\n",
    "    this function plots the trip durations in each day of the week\n",
    "    filename: the data file that contains our desired data\n",
    "    \"\"\"\n",
    "    days=[]\n",
    "    data=[]\n",
    "    rawdata=trip_average_based_on_weekday(filename)\n",
    "    for k,v in rawdata.items():\n",
    "        days.append(k)\n",
    "        data.append(v)\n",
    "            \n",
    "                \n",
    "    return days,data"
   ]
  },
  {
   "cell_type": "code",
   "execution_count": 35,
   "metadata": {},
   "outputs": [
    {
     "data": {
      "image/png": "[encoded data removed]",
      "text/plain": [
       "<matplotlib.figure.Figure at 0x7fb194a42ac8>"
      ]
     },
     "metadata": {},
     "output_type": "display_data"
    }
   ],
   "source": [
    "import matplotlib.pyplot as plt\n",
    "%matplotlib inline\n",
    "\n",
    "\n",
    "data_file='Washington-2016-Summary2.csv'\n",
    "            #'./data/Chicago-2016-Summary2.csv',\n",
    "             #'./data/NYC-2016-Summary2.csv']\n",
    "days,data= ploting_average(data_file)\n",
    "\n",
    "\n",
    "\n",
    "plt.title('Distribution of average trip duration on each day of the week in WDC')\n",
    "plt.xlabel('Days of the week')\n",
    "plt.bar(days,data)\n",
    "plt.xticks(days)\n",
    "plt.show()"
   ]
  },
  {
   "cell_type": "markdown",
   "metadata": {},
   "source": [
    "As we can see the average trip duration is high on Tuesday and Thrsday in Washington \n",
    "and Almost equal on other days of the week"
   ]
  },
  {
   "cell_type": "markdown",
   "metadata": {},
   "source": [
    "<a id='conclusions'></a>\n",
    "## Conclusions\n",
    "\n",
    "Congratulations on completing the project! This is only a sampling of the data analysis process: from generating questions, wrangling the data, and to exploring the data. Normally, at this point in the data analysis process, you might want to draw conclusions about the data by performing a statistical test or fitting the data to a model for making predictions. There are also a lot of potential analyses that could be performed on the data which are not possible with only the data provided. For example, detailed location data has not been investigated. Where are the most commonly used docks? What are the most common routes? As another example, weather has potential to have a large impact on daily ridership. How much is ridership impacted when there is rain or snow? Are subscribers or customers affected more by changes in weather?\n",
    "\n",
    "**Question 7**: Putting the bike share data aside, think of a topic or field of interest where you would like to be able to apply the techniques of data science. What would you like to be able to learn from your chosen subject?\n",
    "\n",
    "**Answer**: \n",
    "\n",
    "            College Enrollment System\n",
    "            \n",
    "            I would like to find patterns about How Student's behaviour vary from one school to another \n",
    "            And what factors control which faculty a student would enroll in. \n",
    "            Not only the degrees or grades is the factor. I think there are more factors hiding out there!\n",
    "            \n",
    "\n",
    "> **Tip**: If we want to share the results of our analysis with others, we aren't limited to giving them a copy of the jupyter Notebook (.ipynb) file. We can also export the Notebook output in a form that can be opened even for those without Python installed. From the **File** menu in the upper left, go to the **Download as** submenu. You can then choose a different format that can be viewed more generally, such as HTML (.html) or\n",
    "PDF (.pdf). You may need additional packages or software to perform these exports.\n",
    "\n",
    "> If you are working on this project via the Project Notebook page in the classroom, you can also submit this project directly from the workspace. **Before you do that**, you should save an HTML copy of the completed project to the workspace by running the code cell below. If it worked correctly, the output code should be a 0, and if you click on the jupyter icon in the upper left, you should see your .html document in the workspace directory. Alternatively, you can download the .html copy of your report following the steps in the previous paragraph, then _upload_ the report to the directory (by clicking the jupyter icon).\n",
    "\n",
    "> Either way, once you've gotten the .html report in your workspace, you can complete your submission by clicking on the \"Submit Project\" button to the lower-right hand side of the workspace."
   ]
  },
  {
   "cell_type": "code",
   "execution_count": 36,
   "metadata": {},
   "outputs": [
    {
     "data": {
      "text/plain": [
       "0"
      ]
     },
     "execution_count": 36,
     "metadata": {},
     "output_type": "execute_result"
    }
   ],
   "source": [
    "from subprocess import call\n",
    "call(['python', '-m', 'nbconvert', 'Bike_Share_Analysis.ipynb'])"
   ]
  },
  {
   "cell_type": "code",
   "execution_count": null,
   "metadata": {},
   "outputs": [],
   "source": []
  }
 ],
 "metadata": {
  "anaconda-cloud": {},
  "kernelspec": {
   "display_name": "Python [default]",
   "language": "python",
   "name": "python3"
  },
  "language_info": {
   "codemirror_mode": {
    "name": "ipython",
    "version": 3
   },
   "file_extension": ".py",
   "mimetype": "text/x-python",
   "name": "python",
   "nbconvert_exporter": "python",
   "pygments_lexer": "ipython3",
   "version": "3.6.4"
  }
 },
 "nbformat": 4,
 "nbformat_minor": 1
}
